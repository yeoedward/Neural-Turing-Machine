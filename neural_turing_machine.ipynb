{
 "cells": [
  {
   "cell_type": "code",
   "execution_count": 2,
   "metadata": {
    "collapsed": false
   },
   "outputs": [
    {
     "name": "stdout",
     "output_type": "stream",
     "text": [
      "Successfully downloaded train-images-idx3-ubyte.gz 9912422 bytes.\n",
      "Extracting MNIST_data/train-images-idx3-ubyte.gz\n",
      "Successfully downloaded train-labels-idx1-ubyte.gz 28881 bytes.\n",
      "Extracting MNIST_data/train-labels-idx1-ubyte.gz\n",
      "Successfully downloaded t10k-images-idx3-ubyte.gz 1648877 bytes.\n",
      "Extracting MNIST_data/t10k-images-idx3-ubyte.gz\n",
      "Successfully downloaded t10k-labels-idx1-ubyte.gz 4542 bytes.\n",
      "Extracting MNIST_data/t10k-labels-idx1-ubyte.gz\n"
     ]
    }
   ],
   "source": [
    "# Import MINST data\n",
    "from tensorflow.examples.tutorials.mnist import input_data\n",
    "mnist = input_data.read_data_sets(\"MNIST_data/\", one_hot=True)\n",
    "\n",
    "import tensorflow as tf\n",
    "from tensorflow.models.rnn import rnn, rnn_cell\n",
    "import numpy as np"
   ]
  },
  {
   "cell_type": "code",
   "execution_count": 3,
   "metadata": {
    "collapsed": true
   },
   "outputs": [],
   "source": [
    "'''\n",
    "To classify images using a reccurent neural network, we consider every image row as a sequence of pixels.\n",
    "Because MNIST image shape is 28*28px, we will then handle 28 sequences of 28 steps for every sample.\n",
    "'''\n",
    "\n",
    "# Parameters\n",
    "learning_rate = 0.001\n",
    "training_iters = 100000\n",
    "batch_size = 128\n",
    "display_step = 10\n",
    "\n",
    "# Network Parameters\n",
    "n_input = 28 # MNIST data input (img shape: 28*28)\n",
    "n_steps = 28 # timesteps\n",
    "n_hidden = 128 # hidden layer num of features\n",
    "n_classes = 10 # MNIST total classes (0-9 digits)"
   ]
  },
  {
   "cell_type": "code",
   "execution_count": 4,
   "metadata": {
    "collapsed": true
   },
   "outputs": [],
   "source": [
    "# tf Graph input\n",
    "x = tf.placeholder(\"float\", [None, n_steps, n_input])\n",
    "istate = tf.placeholder(\"float\", [None, 2*n_hidden]) #state & cell => 2x n_hidden\n",
    "y = tf.placeholder(\"float\", [None, n_classes])\n",
    "\n",
    "# Define weights\n",
    "weights = {\n",
    "    'hidden': tf.Variable(tf.random_normal([n_input, n_hidden])), # Hidden layer weights\n",
    "    'out': tf.Variable(tf.random_normal([n_hidden, n_classes]))\n",
    "}\n",
    "biases = {\n",
    "    'hidden': tf.Variable(tf.random_normal([n_hidden])),\n",
    "    'out': tf.Variable(tf.random_normal([n_classes]))\n",
    "}"
   ]
  },
  {
   "cell_type": "code",
   "execution_count": 5,
   "metadata": {
    "collapsed": true
   },
   "outputs": [],
   "source": [
    "def RNN(_X, _istate, _weights, _biases):\n",
    "\n",
    "    # input shape: (batch_size, n_steps, n_input)\n",
    "    _X = tf.transpose(_X, [1, 0, 2])  # permute n_steps and batch_size\n",
    "    # Reshape to prepare input to hidden activation\n",
    "    _X = tf.reshape(_X, [-1, n_input]) # (n_steps*batch_size, n_input)\n",
    "    # Linear activation\n",
    "    _X = tf.matmul(_X, _weights['hidden']) + _biases['hidden']\n",
    "\n",
    "    # Define a lstm cell with tensorflow\n",
    "    lstm_cell = rnn_cell.BasicLSTMCell(n_hidden, forget_bias=1.0)\n",
    "    # Split data because rnn cell needs a list of inputs for the RNN inner loop\n",
    "    _X = tf.split(0, n_steps, _X) # n_steps * (batch_size, n_hidden)\n",
    "\n",
    "    # Get lstm cell output\n",
    "    outputs, states = rnn.rnn(lstm_cell, _X, initial_state=_istate)\n",
    "\n",
    "    # Linear activation\n",
    "    # Get inner loop last output\n",
    "    return tf.matmul(outputs[-1], _weights['out']) + _biases['out']"
   ]
  },
  {
   "cell_type": "code",
   "execution_count": 6,
   "metadata": {
    "collapsed": false
   },
   "outputs": [],
   "source": [
    "pred = RNN(x, istate, weights, biases)\n",
    "\n",
    "# Define loss and optimizer\n",
    "cost = tf.reduce_mean(tf.nn.softmax_cross_entropy_with_logits(pred, y)) # Softmax loss\n",
    "optimizer = tf.train.AdamOptimizer(learning_rate=learning_rate).minimize(cost) # Adam Optimizer\n",
    "\n",
    "# Evaluate model\n",
    "correct_pred = tf.equal(tf.argmax(pred,1), tf.argmax(y,1))\n",
    "accuracy = tf.reduce_mean(tf.cast(correct_pred, tf.float32))"
   ]
  },
  {
   "cell_type": "code",
   "execution_count": 7,
   "metadata": {
    "collapsed": false
   },
   "outputs": [
    {
     "name": "stdout",
     "output_type": "stream",
     "text": [
      "Iter 1280, Minibatch Loss= 1.621713, Training Accuracy= 0.38281\n",
      "Iter 2560, Minibatch Loss= 1.376065, Training Accuracy= 0.60938\n",
      "Iter 3840, Minibatch Loss= 1.332121, Training Accuracy= 0.54688\n",
      "Iter 5120, Minibatch Loss= 0.929018, Training Accuracy= 0.67188\n",
      "Iter 6400, Minibatch Loss= 0.854602, Training Accuracy= 0.72656\n",
      "Iter 7680, Minibatch Loss= 1.252021, Training Accuracy= 0.57812\n",
      "Iter 8960, Minibatch Loss= 0.784288, Training Accuracy= 0.73438\n",
      "Iter 10240, Minibatch Loss= 0.563942, Training Accuracy= 0.80469\n",
      "Iter 11520, Minibatch Loss= 0.459595, Training Accuracy= 0.85156\n",
      "Iter 12800, Minibatch Loss= 0.846099, Training Accuracy= 0.70312\n",
      "Iter 14080, Minibatch Loss= 0.498246, Training Accuracy= 0.80469\n",
      "Iter 15360, Minibatch Loss= 0.438778, Training Accuracy= 0.85156\n",
      "Iter 16640, Minibatch Loss= 0.492704, Training Accuracy= 0.84375\n",
      "Iter 17920, Minibatch Loss= 0.523778, Training Accuracy= 0.82812\n",
      "Iter 19200, Minibatch Loss= 0.429392, Training Accuracy= 0.90625\n",
      "Iter 20480, Minibatch Loss= 0.308325, Training Accuracy= 0.86719\n",
      "Iter 21760, Minibatch Loss= 0.669416, Training Accuracy= 0.79688\n",
      "Iter 23040, Minibatch Loss= 0.337842, Training Accuracy= 0.90625\n",
      "Iter 24320, Minibatch Loss= 0.612739, Training Accuracy= 0.80469\n",
      "Iter 25600, Minibatch Loss= 0.577552, Training Accuracy= 0.80469\n",
      "Iter 26880, Minibatch Loss= 0.366258, Training Accuracy= 0.86719\n",
      "Iter 28160, Minibatch Loss= 0.408113, Training Accuracy= 0.89062\n",
      "Iter 29440, Minibatch Loss= 0.325954, Training Accuracy= 0.91406\n",
      "Iter 30720, Minibatch Loss= 0.246629, Training Accuracy= 0.92969\n",
      "Iter 32000, Minibatch Loss= 0.360680, Training Accuracy= 0.86719\n",
      "Iter 33280, Minibatch Loss= 0.287138, Training Accuracy= 0.95312\n",
      "Iter 34560, Minibatch Loss= 0.395223, Training Accuracy= 0.89062\n",
      "Iter 35840, Minibatch Loss= 0.200184, Training Accuracy= 0.93750\n",
      "Iter 37120, Minibatch Loss= 0.358572, Training Accuracy= 0.90625\n",
      "Iter 38400, Minibatch Loss= 0.136007, Training Accuracy= 0.95312\n",
      "Iter 39680, Minibatch Loss= 0.223760, Training Accuracy= 0.92969\n",
      "Iter 40960, Minibatch Loss= 0.484723, Training Accuracy= 0.84375\n",
      "Iter 42240, Minibatch Loss= 0.226182, Training Accuracy= 0.92188\n",
      "Iter 43520, Minibatch Loss= 0.213166, Training Accuracy= 0.92188\n",
      "Iter 44800, Minibatch Loss= 0.300815, Training Accuracy= 0.90625\n",
      "Iter 46080, Minibatch Loss= 0.111432, Training Accuracy= 0.96875\n",
      "Iter 47360, Minibatch Loss= 0.288432, Training Accuracy= 0.91406\n",
      "Iter 48640, Minibatch Loss= 0.307528, Training Accuracy= 0.89844\n",
      "Iter 49920, Minibatch Loss= 0.179197, Training Accuracy= 0.94531\n",
      "Iter 51200, Minibatch Loss= 0.193871, Training Accuracy= 0.90625\n",
      "Iter 52480, Minibatch Loss= 0.168024, Training Accuracy= 0.94531\n",
      "Iter 53760, Minibatch Loss= 0.111539, Training Accuracy= 0.97656\n",
      "Iter 55040, Minibatch Loss= 0.290547, Training Accuracy= 0.94531\n",
      "Iter 56320, Minibatch Loss= 0.103807, Training Accuracy= 0.96875\n",
      "Iter 57600, Minibatch Loss= 0.120902, Training Accuracy= 0.96094\n",
      "Iter 58880, Minibatch Loss= 0.197615, Training Accuracy= 0.93750\n",
      "Iter 60160, Minibatch Loss= 0.301288, Training Accuracy= 0.92188\n",
      "Iter 61440, Minibatch Loss= 0.209416, Training Accuracy= 0.92969\n",
      "Iter 62720, Minibatch Loss= 0.175808, Training Accuracy= 0.95312\n",
      "Iter 64000, Minibatch Loss= 0.188959, Training Accuracy= 0.94531\n",
      "Iter 65280, Minibatch Loss= 0.178568, Training Accuracy= 0.91406\n",
      "Iter 66560, Minibatch Loss= 0.091959, Training Accuracy= 0.96875\n",
      "Iter 67840, Minibatch Loss= 0.086720, Training Accuracy= 0.97656\n",
      "Iter 69120, Minibatch Loss= 0.203520, Training Accuracy= 0.93750\n",
      "Iter 70400, Minibatch Loss= 0.122210, Training Accuracy= 0.94531\n",
      "Iter 71680, Minibatch Loss= 0.108150, Training Accuracy= 0.95312\n",
      "Iter 72960, Minibatch Loss= 0.102228, Training Accuracy= 0.97656\n",
      "Iter 74240, Minibatch Loss= 0.193831, Training Accuracy= 0.93750\n",
      "Iter 75520, Minibatch Loss= 0.180513, Training Accuracy= 0.95312\n",
      "Iter 76800, Minibatch Loss= 0.098731, Training Accuracy= 0.97656\n",
      "Iter 78080, Minibatch Loss= 0.186927, Training Accuracy= 0.93750\n",
      "Iter 79360, Minibatch Loss= 0.178849, Training Accuracy= 0.93750\n",
      "Iter 80640, Minibatch Loss= 0.156220, Training Accuracy= 0.94531\n",
      "Iter 81920, Minibatch Loss= 0.155746, Training Accuracy= 0.95312\n",
      "Iter 83200, Minibatch Loss= 0.147698, Training Accuracy= 0.95312\n",
      "Iter 84480, Minibatch Loss= 0.101992, Training Accuracy= 0.97656\n",
      "Iter 85760, Minibatch Loss= 0.137318, Training Accuracy= 0.96875\n",
      "Iter 87040, Minibatch Loss= 0.156999, Training Accuracy= 0.93750\n",
      "Iter 88320, Minibatch Loss= 0.086781, Training Accuracy= 0.97656\n",
      "Iter 89600, Minibatch Loss= 0.127236, Training Accuracy= 0.96875\n",
      "Iter 90880, Minibatch Loss= 0.102900, Training Accuracy= 0.95312\n",
      "Iter 92160, Minibatch Loss= 0.047009, Training Accuracy= 0.99219\n",
      "Iter 93440, Minibatch Loss= 0.078138, Training Accuracy= 0.97656\n",
      "Iter 94720, Minibatch Loss= 0.089151, Training Accuracy= 0.99219\n",
      "Iter 96000, Minibatch Loss= 0.136995, Training Accuracy= 0.97656\n",
      "Iter 97280, Minibatch Loss= 0.084512, Training Accuracy= 0.97656\n",
      "Iter 98560, Minibatch Loss= 0.168568, Training Accuracy= 0.94531\n",
      "Iter 99840, Minibatch Loss= 0.148690, Training Accuracy= 0.92969\n",
      "Optimization Finished!\n",
      "Testing Accuracy: 0.957031\n"
     ]
    }
   ],
   "source": [
    "# Initializing the variables\n",
    "init = tf.initialize_all_variables()\n",
    "\n",
    "# Launch the graph\n",
    "with tf.Session() as sess:\n",
    "    sess.run(init)\n",
    "    step = 1\n",
    "    # Keep training until reach max iterations\n",
    "    while step * batch_size < training_iters:\n",
    "        batch_xs, batch_ys = mnist.train.next_batch(batch_size)\n",
    "        # Reshape data to get 28 seq of 28 elements\n",
    "        batch_xs = batch_xs.reshape((batch_size, n_steps, n_input))\n",
    "        # Fit training using batch data\n",
    "        sess.run(optimizer, feed_dict={x: batch_xs, y: batch_ys,\n",
    "                                       istate: np.zeros((batch_size, 2*n_hidden))})\n",
    "        if step % display_step == 0:\n",
    "            # Calculate batch accuracy\n",
    "            acc = sess.run(accuracy, feed_dict={x: batch_xs, y: batch_ys,\n",
    "                                                istate: np.zeros((batch_size, 2*n_hidden))})\n",
    "            # Calculate batch loss\n",
    "            loss = sess.run(cost, feed_dict={x: batch_xs, y: batch_ys,\n",
    "                                             istate: np.zeros((batch_size, 2*n_hidden))})\n",
    "            print \"Iter \" + str(step*batch_size) + \", Minibatch Loss= \" + \"{:.6f}\".format(loss) + \\\n",
    "                  \", Training Accuracy= \" + \"{:.5f}\".format(acc)\n",
    "        step += 1\n",
    "    print \"Optimization Finished!\"\n",
    "    # Calculate accuracy for 256 mnist test images\n",
    "    test_len = 256\n",
    "    test_data = mnist.test.images[:test_len].reshape((-1, n_steps, n_input))\n",
    "    test_label = mnist.test.labels[:test_len]\n",
    "    print \"Testing Accuracy:\", sess.run(accuracy, feed_dict={x: test_data, y: test_label,\n",
    "                                                             istate: np.zeros((test_len, 2*n_hidden))})"
   ]
  }
 ],
 "metadata": {
  "kernelspec": {
   "display_name": "Python 2",
   "language": "python",
   "name": "python2"
  },
  "language_info": {
   "codemirror_mode": {
    "name": "ipython",
    "version": 2
   },
   "file_extension": ".py",
   "mimetype": "text/x-python",
   "name": "python",
   "nbconvert_exporter": "python",
   "pygments_lexer": "ipython2",
   "version": "2.7.11"
  }
 },
 "nbformat": 4,
 "nbformat_minor": 0
}
