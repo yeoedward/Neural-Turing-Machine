{
  "nbformat": 4,
  "nbformat_minor": 0,
  "metadata": {
    "colab": {
      "version": "0.3.2",
      "views": {},
      "default_view": {},
      "name": "Untitled",
      "provenance": []
    }
  },
  "cells": [
    {
      "cell_type": "markdown",
      "metadata": {
        "id": "a3bskVXPvchm",
        "colab_type": "text"
      },
      "source": [
        "# Hello, TensorFlow\n",
        "## A beginner-level, getting started, basic introduction to TensorFlow"
      ]
    },
    {
      "cell_type": "markdown",
      "metadata": {
        "id": "Rb5rSpcZvYbX",
        "colab_type": "text"
      },
      "source": [
        "TensorFlow is a general-purpose system for graph-based computation. A typical use is machine learning. In this notebook, we'll introduce the basic concepts of TensorFlow using some simple examples.\n",
        "\n",
        "TensorFlow gets its name from [tensors](https://en.wikipedia.org/wiki/Tensor), which are arrays of arbitrary dimensionality. A vector is a 1-d array and is known as a 1st-order tensor. A matrix is a 2-d array and a 2nd-order tensor. The \"flow\" part of the name refers to computation flowing through a graph. Training and inference in a neural network, for example, involves the propagation of matrix computations through many nodes in a computational graph.\n",
        "\n",
        "When you think of doing things in TensorFlow, you might want to think of creating tensors (like matrices), adding operations (that output other tensors), and then executing the computation (running the computational graph). In particular, it's important to realize that when you add an operation on tensors, it doesn't execute immediately. Rather, TensorFlow waits for you to define all the operations you want to perform. Then, TensorFlow optimizes the computation graph, deciding how to execute the computation, before generating the data. Because of this, a tensor in TensorFlow isn't so much holding the data as a placeholder for holding the data, waiting for the data to arrive when a computation is executed."
      ]
    },
    {
      "cell_type": "markdown",
      "metadata": {
        "id": "E8FhiMivhcYB",
        "colab_type": "text"
      },
      "source": [
        "## Adding two vectors in TensorFlow\n",
        "\n",
        "Let's start with something that should be simple. Let's add two length four vectors (two 1st-order tensors):\n",
        "\n",
        "$\\begin{bmatrix} 1. & 1. & 1. & 1.\\end{bmatrix} + \\begin{bmatrix} 2. & 2. & 2. & 2.\\end{bmatrix} = \\begin{bmatrix} 3. & 3. & 3. & 3.\\end{bmatrix}$"
      ]
    },
    {
      "cell_type": "code",
      "metadata": {
        "id": "2iv3XQ6k3eF1",
        "colab_type": "code",
        "colab": {
          "autoexec": {
            "startup": false,
            "wait_interval": 0
          },
          "output_extras": [
            {
              "item_id": 1
            }
          ]
        },
        "cellView": "both",
        "executionInfo": {
          "elapsed": 131,
          "status": "ok",
          "timestamp": 1446243605678,
          "user": {
            "color": "#1FA15D",
            "displayName": "Michael Piatek",
            "isAnonymous": false,
            "isMe": true,
            "permissionId": "00327059602783983041",
            "photoUrl": "//lh6.googleusercontent.com/-wKJwK_OPl34/AAAAAAAAAAI/AAAAAAAAAlk/Rh3u6O2Z7ns/s50-c-k-no/photo.jpg",
            "sessionId": "7391995727249e65",
            "userId": "106975671469698476657"
          },
          "user_tz": 420
        },
        "outputId": "e21e1144-736a-4b1f-df78-a9ceab9d4c61"
      },
      "source": [
        "import tensorflow as tf\n",
        "\n",
        "with tf.Session():\n",
        "  input1 = tf.constant([1.0, 1.0, 1.0, 1.0])\n",
        "  input2 = tf.constant([2.0, 2.0, 2.0, 2.0])\n",
        "  output = tf.add(input1, input2)\n",
        "  result = output.eval()\n",
        "  print result"
      ],
      "outputs": [
        {
          "output_type": "stream",
          "text": [
            "[ 3.  3.  3.  3.]\n"
          ],
          "name": "stdout"
        }
      ],
      "execution_count": 0
    },
    {
      "cell_type": "markdown",
      "metadata": {
        "id": "dqLV5GXT3wLy",
        "colab_type": "text"
      },
      "source": [
        "What we're doing is creating two vectors, [1.0, 1.0, 1.0, 1.0] and [2.0, 2.0, 2.0, 2.0], and then adding them. Here's equivalent code in raw Python and using numpy:"
      ]
    },
    {
      "cell_type": "code",
      "metadata": {
        "id": "7DzDJ7sW79ao",
        "colab_type": "code",
        "colab": {
          "autoexec": {
            "startup": false,
            "wait_interval": 0
          },
          "output_extras": [
            {
              "item_id": 1
            }
          ]
        },
        "cellView": "both",
        "executionInfo": {
          "elapsed": 152,
          "status": "ok",
          "timestamp": 1446242020458,
          "user": {
            "color": "#1FA15D",
            "displayName": "Michael Piatek",
            "isAnonymous": false,
            "isMe": true,
            "permissionId": "00327059602783983041",
            "photoUrl": "//lh6.googleusercontent.com/-wKJwK_OPl34/AAAAAAAAAAI/AAAAAAAAAlk/Rh3u6O2Z7ns/s50-c-k-no/photo.jpg",
            "sessionId": "7391995727249e65",
            "userId": "106975671469698476657"
          },
          "user_tz": 420
        },
        "outputId": "cf89e613-06e5-4435-bea3-9f48a4eff943"
      },
      "source": [
        "print [x + y for x, y in zip([1.0] * 4, [2.0] * 4)]"
      ],
      "outputs": [
        {
          "output_type": "stream",
          "text": [
            "[3.0, 3.0, 3.0, 3.0]\n"
          ],
          "name": "stdout"
        }
      ],
      "execution_count": 0
    },
    {
      "cell_type": "code",
      "metadata": {
        "id": "MDWJf0lHAF4E",
        "colab_type": "code",
        "colab": {
          "autoexec": {
            "startup": false,
            "wait_interval": 0
          },
          "output_extras": [
            {
              "item_id": 1
            }
          ]
        },
        "cellView": "both",
        "executionInfo": {
          "elapsed": 97,
          "status": "ok",
          "timestamp": 1446242021921,
          "user": {
            "color": "#1FA15D",
            "displayName": "Michael Piatek",
            "isAnonymous": false,
            "isMe": true,
            "permissionId": "00327059602783983041",
            "photoUrl": "//lh6.googleusercontent.com/-wKJwK_OPl34/AAAAAAAAAAI/AAAAAAAAAlk/Rh3u6O2Z7ns/s50-c-k-no/photo.jpg",
            "sessionId": "7391995727249e65",
            "userId": "106975671469698476657"
          },
          "user_tz": 420
        },
        "outputId": "66d8c4a2-92b7-4048-b365-39dc42dff2bc"
      },
      "source": [
        "import numpy as np\n",
        "x, y = np.full(4, 1.0), np.full(4, 2.0)\n",
        "print \"{} + {} = {}\".format(x, y, x + y)"
      ],
      "outputs": [
        {
          "output_type": "stream",
          "text": [
            "[ 1.  1.  1.  1.] + [ 2.  2.  2.  2.] = [ 3.  3.  3.  3.]\n"
          ],
          "name": "stdout"
        }
      ],
      "execution_count": 0
    },
    {
      "cell_type": "markdown",
      "metadata": {
        "id": "I52jQOyO8vAn",
        "colab_type": "text"
      },
      "source": [
        "## Details of adding two vectors in TensorFlow\n",
        "\n",
        "The example above of adding two vectors involves a lot more than it seems, so let's look at it in more depth.\n",
        "\n",
        ">`import tensorflow as tf`\n",
        "\n",
        "This import brings TensorFlow's public API into our IPython runtime environment.\n",
        "\n",
        ">`with tf.Session():`\n",
        "\n",
        "When you run an operation in TensorFlow, you need to do it in the context of a `Session`. A session holds the computation graph, which contains the tensors and the operations. When you create tensors and operations, they are not executed immediately, but wait for other operations and tensors to be added to the graph, only executing when finally requested to produce the results of the session. Deferring the execution like this provides additional opportunities for parallelism and optimization, as TensorFlow can decide how to combine operations and where to run them after TensorFlow knows about all the operations. \n",
        "\n",
        ">>`input1 = tf.constant([1.0, 1.0, 1.0, 1.0])`\n",
        "\n",
        ">>`input2 = tf.constant([2.0, 2.0, 2.0, 2.0])`\n",
        "\n",
        "The next two lines create tensors using a convenience function called `constant`, which is similar to numpy's `array` and numpy's `full`. If you look at the code for `constant`, you can see the details of what it is doing to create the tensor. In summary, it creates a tensor of the necessary shape and applies the constant operator to it to fill it with the provided values. The values to `constant` can be Python or numpy arrays. `constant` can take an optional shape paramter, which works similarly to numpy's `fill` if provided, and an optional name parameter, which can be used to put a more human-readable label on the operation in the TensorFlow operation graph.\n",
        "\n",
        ">>`output = tf.add(input1, input2)`\n",
        "\n",
        "You might think `add` just adds the two vectors now, but it doesn't quite do that. What it does is put the `add` operation into the computational graph. The results of the addition aren't available yet. They've been put in the computation graph, but the computation graph hasn't been executed yet.\n",
        "\n",
        ">>`result = output.eval()`\n",
        "\n",
        ">>`print result`\n",
        "\n",
        "`eval()` is also slightly more complicated than it looks. Yes, it does get the value of the vector (tensor) that results from the addition. It returns this as a numpy array, which can then be printed. But, it's important to realize it also runs the computation graph at this point, because we demanded the output from the operation node of the graph; to produce that, it had to run the computation graph. So, this is the point where the addition is actually performed, not when `add` was called, as `add` just put the addition operation into the TensorFlow computation graph."
      ]
    },
    {
      "cell_type": "markdown",
      "metadata": {
        "id": "H_5_2YY3ySr2",
        "colab_type": "text"
      },
      "source": [
        "## Multiple operations\n",
        "\n",
        "To use TensorFlow, you add operations on tensors that produce tensors to the computation graph, then execute that graph to run all those operations and calculate the values of all the tensors in the graph.\n",
        "\n",
        "Here's a simple example with two operations:"
      ]
    },
    {
      "cell_type": "code",
      "metadata": {
        "id": "-kQmn3U_yXX8",
        "colab_type": "code",
        "colab": {
          "autoexec": {
            "startup": false,
            "wait_interval": 0
          },
          "output_extras": [
            {
              "item_id": 1
            }
          ]
        },
        "cellView": "both",
        "executionInfo": {
          "elapsed": 101,
          "status": "ok",
          "timestamp": 1446242580297,
          "user": {
            "color": "#1FA15D",
            "displayName": "Michael Piatek",
            "isAnonymous": false,
            "isMe": true,
            "permissionId": "00327059602783983041",
            "photoUrl": "//lh6.googleusercontent.com/-wKJwK_OPl34/AAAAAAAAAAI/AAAAAAAAAlk/Rh3u6O2Z7ns/s50-c-k-no/photo.jpg",
            "sessionId": "7391995727249e65",
            "userId": "106975671469698476657"
          },
          "user_tz": 420
        },
        "outputId": "e96a6e27-665e-47d3-822e-47aeb66fc7f8"
      },
      "source": [
        "import tensorflow as tf\n",
        "\n",
        "with tf.Session():\n",
        "  input1 = tf.constant(1.0, shape=[4])\n",
        "  input2 = tf.constant(2.0, shape=[4])\n",
        "  input3 = tf.constant(3.0, shape=[4])\n",
        "  output = tf.add(tf.add(input1, input2), input3)\n",
        "  result = output.eval()\n",
        "  print result"
      ],
      "outputs": [
        {
          "output_type": "stream",
          "text": [
            "[ 6.  6.  6.  6.]\n"
          ],
          "name": "stdout"
        }
      ],
      "execution_count": 0
    },
    {
      "cell_type": "markdown",
      "metadata": {
        "id": "Hod0zvsly8YT",
        "colab_type": "text"
      },
      "source": [
        "This version uses `constant` in a way similar to numpy's `fill`, specifying the optional shape and having the values copied out across it.\n",
        "\n",
        "The `add` operator supports operator overloading, so you could try writing it inline as `input1 + input2` instead as well as experimenting with other operators."
      ]
    },
    {
      "cell_type": "code",
      "metadata": {
        "id": "yS2WElRfxz53",
        "colab_type": "code",
        "colab": {
          "autoexec": {
            "startup": false,
            "wait_interval": 0
          },
          "output_extras": [
            {
              "item_id": 1
            }
          ]
        },
        "cellView": "both",
        "executionInfo": {
          "elapsed": 156,
          "status": "ok",
          "timestamp": 1446242664353,
          "user": {
            "color": "#1FA15D",
            "displayName": "Michael Piatek",
            "isAnonymous": false,
            "isMe": true,
            "permissionId": "00327059602783983041",
            "photoUrl": "//lh6.googleusercontent.com/-wKJwK_OPl34/AAAAAAAAAAI/AAAAAAAAAlk/Rh3u6O2Z7ns/s50-c-k-no/photo.jpg",
            "sessionId": "7391995727249e65",
            "userId": "106975671469698476657"
          },
          "user_tz": 420
        },
        "outputId": "9818bf3c-5659-4a87-8b5d-40a28f1a2677"
      },
      "source": [
        "with tf.Session():\n",
        "  input1 = tf.constant(1.0, shape=[4])\n",
        "  input2 = tf.constant(2.0, shape=[4])\n",
        "  output = input1 + input2\n",
        "  print output.eval()"
      ],
      "outputs": [
        {
          "output_type": "stream",
          "text": [
            "[ 3.  3.  3.  3.]\n"
          ],
          "name": "stdout"
        }
      ],
      "execution_count": 0
    },
    {
      "cell_type": "markdown",
      "metadata": {
        "id": "zszjoYUjkUNU",
        "colab_type": "text"
      },
      "source": [
        "##  Adding two matrices"
      ]
    },
    {
      "cell_type": "markdown",
      "metadata": {
        "id": "EWNYBCB6kbri",
        "colab_type": "text"
      },
      "source": [
        "Next, let's do something very similar, adding two matrices:\n",
        "\n",
        "$\\begin{bmatrix}\n",
        "  1. & 1. & 1. \\\\\n",
        "  1. & 1. & 1. \\\\\n",
        "\\end{bmatrix} + \n",
        "\\begin{bmatrix}\n",
        "  1. & 2. & 3. \\\\\n",
        "  4. & 5. & 6. \\\\\n",
        "\\end{bmatrix} = \n",
        "\\begin{bmatrix}\n",
        "  2. & 3. & 4. \\\\\n",
        "  5. & 6. & 7. \\\\\n",
        "\\end{bmatrix}$"
      ]
    },
    {
      "cell_type": "code",
      "metadata": {
        "id": "tmWcCxSilYkg",
        "colab_type": "code",
        "colab": {
          "autoexec": {
            "startup": false,
            "wait_interval": 0
          },
          "output_extras": [
            {
              "item_id": 1
            }
          ]
        },
        "cellView": "both",
        "executionInfo": {
          "elapsed": 1540,
          "status": "ok",
          "timestamp": 1446242690334,
          "user": {
            "color": "#1FA15D",
            "displayName": "Michael Piatek",
            "isAnonymous": false,
            "isMe": true,
            "permissionId": "00327059602783983041",
            "photoUrl": "//lh6.googleusercontent.com/-wKJwK_OPl34/AAAAAAAAAAI/AAAAAAAAAlk/Rh3u6O2Z7ns/s50-c-k-no/photo.jpg",
            "sessionId": "7391995727249e65",
            "userId": "106975671469698476657"
          },
          "user_tz": 420
        },
        "outputId": "f3a2e904-790b-42e1-9ca4-2f3c54d7f4a8"
      },
      "source": [
        "import tensorflow as tf\n",
        "import numpy as np\n",
        "\n",
        "with tf.Session():\n",
        "  input1 = tf.constant(1.0, shape=[2, 3])\n",
        "  input2 = tf.constant(np.reshape(np.arange(1.0, 7.0, dtype=np.float32), (2, 3)))\n",
        "  output = tf.add(input1, input2)\n",
        "  print output.eval()"
      ],
      "outputs": [
        {
          "output_type": "stream",
          "text": [
            "[[ 2.  3.  4.]\n",
            " [ 5.  6.  7.]]\n"
          ],
          "name": "stdout"
        }
      ],
      "execution_count": 0
    },
    {
      "cell_type": "markdown",
      "metadata": {
        "id": "JuU3Bmglq1vd",
        "colab_type": "text"
      },
      "source": [
        "Recall that you can pass numpy or Python arrays into `constant`.\n",
        "\n",
        "In this example, the matrix with values from 1 to 6 is created in numpy and passed into `constant`, but TensorFlow also has `range`, `reshape`, and `tofloat` operators. Doing this entirely within TensorFlow could be more efficient if this was a very large matrix.\n",
        "\n",
        "Try experimenting with this code a bit -- maybe modifying some of the values, using the numpy version, doing this using, adding another operation, or doing this using TensorFlow's `range` function."
      ]
    },
    {
      "cell_type": "markdown",
      "metadata": {
        "id": "gnXnpnuLrflb",
        "colab_type": "text"
      },
      "source": [
        "##  Multiplying matrices"
      ]
    },
    {
      "cell_type": "markdown",
      "metadata": {
        "id": "Ho-QNSOorj0y",
        "colab_type": "text"
      },
      "source": [
        "Let's move on to matrix multiplication. This time, let's use a bit vector and some random values, which is a good step toward some of what we'll need to do for regression and neural networks."
      ]
    },
    {
      "cell_type": "code",
      "metadata": {
        "id": "uNqMaFR8sIY5",
        "colab_type": "code",
        "colab": {
          "autoexec": {
            "startup": false,
            "wait_interval": 0
          },
          "output_extras": [
            {
              "item_id": 1
            }
          ]
        },
        "cellView": "both",
        "executionInfo": {
          "elapsed": 132,
          "status": "ok",
          "timestamp": 1446242872027,
          "user": {
            "color": "#1FA15D",
            "displayName": "Michael Piatek",
            "isAnonymous": false,
            "isMe": true,
            "permissionId": "00327059602783983041",
            "photoUrl": "//lh6.googleusercontent.com/-wKJwK_OPl34/AAAAAAAAAAI/AAAAAAAAAlk/Rh3u6O2Z7ns/s50-c-k-no/photo.jpg",
            "sessionId": "7391995727249e65",
            "userId": "106975671469698476657"
          },
          "user_tz": 420
        },
        "outputId": "fc0e29a0-306c-4709-c181-1108d5a21d88"
      },
      "source": [
        "#@test {\"output\": \"ignore\"}\n",
        "import tensorflow as tf\n",
        "import numpy as np\n",
        "\n",
        "with tf.Session():\n",
        "  input_features = tf.constant(np.reshape([1, 0, 0, 1], (1, 4)).astype(np.float32))\n",
        "  weights = tf.constant(np.random.randn(4, 2).astype(np.float32))\n",
        "  output = tf.matmul(input_features, weights)\n",
        "  print \"Input:\"\n",
        "  print input_features.eval()\n",
        "  print \"Weights:\"\n",
        "  print weights.eval()\n",
        "  print \"Output:\"\n",
        "  print output.eval()"
      ],
      "outputs": [
        {
          "output_type": "stream",
          "text": [
            "Input:\n",
            "[[ 1.  0.  0.  1.]]\n",
            "Weights:\n",
            "[[-0.8187139  -0.81037313]\n",
            " [-0.31439888 -2.36761999]\n",
            " [-1.3127892  -0.33629459]\n",
            " [-1.23475349 -1.19031894]]\n",
            "Output:\n",
            "[[-2.05346727 -2.00069213]]\n"
          ],
          "name": "stdout"
        }
      ],
      "execution_count": 0
    },
    {
      "cell_type": "markdown",
      "metadata": {
        "id": "JDAVTPhb22AP",
        "colab_type": "text"
      },
      "source": [
        "Above, we're taking a 1 x 4 vector [1 0 0 1] and multiplying it by a 4 by 2 matrix full of random values from a normal distribution (mean 0, stdev 1). The output is a 1 x 2 matrix.\n",
        "\n",
        "You might try modifying this example. Running the cell multiple times will generate new random weights and a new output. Or, change the input, e.g., to \\[0 0 0 1]), and run the cell again. Or, try initializing the weights using the TensorFlow op, e.g., `random_normal`, instead of using numpy to generate the random weights.\n",
        "\n",
        "What we have here is the basics of a simple neural network already. If we are reading in the input features, along with some expected output, and change the weights based on the error with the output each time, that's a neural network."
      ]
    },
    {
      "cell_type": "markdown",
      "metadata": {
        "id": "XhnBjAUILuy8",
        "colab_type": "text"
      },
      "source": [
        "## Use of variables\n",
        "\n",
        "Let's look at adding two small matrices in a loop, not by creating new tensors every time, but by updating the existing values and then re-running the computation graph on the new data. This happens a lot with machine learning models, where we change some parameters each time such as gradient descent on some weights and then perform the same computations over and over again."
      ]
    },
    {
      "cell_type": "code",
      "metadata": {
        "id": "vJ_AgZ8lLtRv",
        "colab_type": "code",
        "colab": {
          "autoexec": {
            "startup": false,
            "wait_interval": 0
          },
          "output_extras": [
            {
              "item_id": 1
            }
          ]
        },
        "cellView": "both",
        "executionInfo": {
          "elapsed": 180,
          "status": "ok",
          "timestamp": 1446244201894,
          "user": {
            "color": "#1FA15D",
            "displayName": "Michael Piatek",
            "isAnonymous": false,
            "isMe": true,
            "permissionId": "00327059602783983041",
            "photoUrl": "//lh6.googleusercontent.com/-wKJwK_OPl34/AAAAAAAAAAI/AAAAAAAAAlk/Rh3u6O2Z7ns/s50-c-k-no/photo.jpg",
            "sessionId": "7391995727249e65",
            "userId": "106975671469698476657"
          },
          "user_tz": 420
        },
        "outputId": "8d3aadaa-2b34-4642-889b-e3daaf5ee693"
      },
      "source": [
        "#@test {\"output\": \"ignore\"}\n",
        "import tensorflow as tf\n",
        "import numpy as np\n",
        "\n",
        "with tf.Session() as sess:\n",
        "  # Set up two variables, total and weights, that we'll change repeatedly.\n",
        "  total = tf.Variable(tf.zeros([1, 2]))\n",
        "  weights = tf.Variable(tf.random_uniform([1,2]))\n",
        "  \n",
        "  # Initialize the variables we defined above.\n",
        "  tf.initialize_all_variables().run()\n",
        "  \n",
        "  # This only adds the operators to the graph right now. The assignment\n",
        "  # and addition operations are not performed yet.\n",
        "  update_weights = tf.assign(weights, tf.random_uniform([1, 2], -1.0, 1.0))\n",
        "  update_total = tf.assign(total, tf.add(total, weights))\n",
        "  \n",
        "  for _ in range(5):\n",
        "    # Actually run the operation graph, so randomly generate weights and then\n",
        "    # add them into the total. Order does matter here. We need to update\n",
        "    # the weights before updating the total.\n",
        "    sess.run(update_weights)\n",
        "    sess.run(update_total)\n",
        "    \n",
        "    print weights.eval(), total.eval()"
      ],
      "outputs": [
        {
          "output_type": "stream",
          "text": [
            "[[-0.41494703  0.47648168]] [[-0.41494703  0.47648168]]\n",
            "[[ 0.35746408  0.99504066]] [[-0.05748296  1.47152233]]\n",
            "[[-0.46462393 -0.80201006]] [[-0.52210689  0.66951227]]\n",
            "[[-0.99513483 -0.42322445]] [[-1.51724172  0.24628782]]\n",
            "[[ 0.13371086 -0.85545826]] [[-1.38353086 -0.60917044]]\n"
          ],
          "name": "stdout"
        }
      ],
      "execution_count": 0
    },
    {
      "cell_type": "markdown",
      "metadata": {
        "id": "kSYJr89aM_n0",
        "colab_type": "text"
      },
      "source": [
        "This is more complicated. At a high level, we create two variables and add operations over them, then, in a loop, repeatedly execute those operations. Let's walk through it step by step.\n",
        "\n",
        "Starting off, the code creates two variables, `total` and `weights`. `total` is initialized to \\[0, 0\\] and `weights` is initialized to random values between -1 and 1.\n",
        "\n",
        "Next, two assignment operators are added to the graph, one that updates weights with random values from [-1, 1], the other that updates the total with the new weights. Again, the operators are not executed here. In fact, this isn't even inside the loop. We won't execute these operations until the `eval` call inside the loop.\n",
        "\n",
        "Finally, in the for loop, we run each of the operators. In each iteration of the loop, this executes the operators we added earlier, first putting random values into the weights, then updating the totals with the new weights. This call uses `eval` on the session; the code also could have called `eval` on the operators (e.g. `update_weights.eval`).\n",
        "\n",
        "It can be a little hard to wrap your head around exactly what computation is done when. The important thing to remember is that computation is only performed on demand.\n",
        "\n",
        "Variables can be useful in cases where you have a large amount of computation and data that you want to use over and over again with just a minor change to the input each time. That happens quite a bit with neural networks, for example, where you just want to update the weights each time you go through the batches of input data, then run the same operations over again."
      ]
    },
    {
      "cell_type": "markdown",
      "metadata": {
        "id": "fL3WfAbKzqr5",
        "colab_type": "text"
      },
      "source": [
        "## What's next?\n",
        "\n",
        "This has been a gentle introduction to TensorFlow, focused on what TensorFlow is and the very basics of doing anything in TensorFlow. If you'd like more, the next tutorial in the series is Getting Started with TensorFlow, also available in the [notebooks directory](..)."
      ]
    }
  ]
}