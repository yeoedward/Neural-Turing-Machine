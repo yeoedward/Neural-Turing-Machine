{
  "nbformat": 4,
  "nbformat_minor": 0,
  "metadata": {
    "colab": {
      "version": "0.3.2",
      "views": {},
      "default_view": {},
      "name": "Untitled",
      "provenance": []
    }
  },
  "cells": [
    {
      "cell_type": "markdown",
      "metadata": {
        "id": "9yupXUk1DKOe",
        "colab_type": "text"
      },
      "source": [
        "# MNIST from scratch\n",
        "\n",
        "This notebook walks through an example of training a TensorFlow model to do digit classification using the [MNIST data set](http://yann.lecun.com/exdb/mnist/). MNIST is a labeled set of images of handwritten digits.\n",
        "\n",
        "An example follows."
      ]
    },
    {
      "cell_type": "code",
      "metadata": {
        "id": "sbUKaF8_uDI_",
        "colab_type": "code",
        "colab": {
          "autoexec": {
            "startup": false,
            "wait_interval": 0
          },
          "output_extras": [
            {}
          ]
        },
        "cellView": "both",
        "outputId": "67a51332-3aea-4c29-8c3d-4752db08ccb3"
      },
      "source": [
        "from IPython.display import Image\n",
        "import base64\n",
        "Image(data=base64.decodestring(\"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\"), embed=True)"
      ],
      "outputs": [
        {
          "output_type": "execute_result",
          "execution_count": 1,
          "metadata": {},
          "data": {
            "image/png": "[encoded data removed]",
            "text/plain": [
              "<IPython.core.display.Image object>"
            ]
          }
        }
      ],
      "execution_count": 1
    },
    {
      "cell_type": "markdown",
      "metadata": {
        "id": "J0QZYD_HuDJF",
        "colab_type": "text"
      },
      "source": [
        "We're going to be building a model that recognizes these digits as 5, 0, and 4.\n",
        "\n",
        "# Imports and input data\n",
        "\n",
        "We'll proceed in steps, beginning with importing and inspecting the MNIST data. This doesn't have anything to do with TensorFlow in particular -- we're just downloading the data archive."
      ]
    },
    {
      "cell_type": "code",
      "metadata": {
        "id": "w5vKZqr6CDz9",
        "colab_type": "code",
        "colab": {
          "autoexec": {
            "startup": false,
            "wait_interval": 0
          },
          "output_extras": [
            {}
          ]
        },
        "cellView": "both",
        "executionInfo": {
          "elapsed": 110,
          "status": "ok",
          "timestamp": 1446749124399,
          "user": {
            "color": "#1FA15D",
            "displayName": "Michael Piatek",
            "isAnonymous": false,
            "isMe": true,
            "permissionId": "00327059602783983041",
            "photoUrl": "//lh6.googleusercontent.com/-wKJwK_OPl34/AAAAAAAAAAI/AAAAAAAAAlk/Rh3u6O2Z7ns/s50-c-k-no/photo.jpg",
            "sessionId": "716a6ad5e180d821",
            "userId": "106975671469698476657"
          },
          "user_tz": 480
        },
        "outputId": "794eac6d-a918-4888-e8cf-a8628474d7f1"
      },
      "source": [
        "import os\n",
        "import urllib\n",
        "\n",
        "SOURCE_URL = 'http://yann.lecun.com/exdb/mnist/'\n",
        "WORK_DIRECTORY = \"/tmp/mnist-data\"\n",
        "\n",
        "def maybe_download(filename):\n",
        "  \"\"\"A helper to download the data files if not present.\"\"\"\n",
        "  if not os.path.exists(WORK_DIRECTORY):\n",
        "    os.mkdir(WORK_DIRECTORY)\n",
        "  filepath = os.path.join(WORK_DIRECTORY, filename)\n",
        "  if not os.path.exists(filepath):\n",
        "    filepath, _ = urllib.urlretrieve(SOURCE_URL + filename, filepath)\n",
        "    statinfo = os.stat(filepath)\n",
        "    print 'Succesfully downloaded', filename, statinfo.st_size, 'bytes.'\n",
        "  else:\n",
        "    print 'Already downloaded', filename\n",
        "  return filepath\n",
        "\n",
        "train_data_filename = maybe_download('train-images-idx3-ubyte.gz')\n",
        "train_labels_filename = maybe_download('train-labels-idx1-ubyte.gz')\n",
        "test_data_filename = maybe_download('t10k-images-idx3-ubyte.gz')\n",
        "test_labels_filename = maybe_download('t10k-labels-idx1-ubyte.gz')"
      ],
      "outputs": [
        {
          "output_type": "stream",
          "text": [
            "Already downloaded train-images-idx3-ubyte.gz\n",
            "Already downloaded train-labels-idx1-ubyte.gz\n",
            "Already downloaded t10k-images-idx3-ubyte.gz\n",
            "Already downloaded t10k-labels-idx1-ubyte.gz\n"
          ],
          "name": "stdout"
        }
      ],
      "execution_count": 0
    },
    {
      "cell_type": "markdown",
      "metadata": {
        "id": "gCtMhpIoC84F",
        "colab_type": "text"
      },
      "source": [
        "## Working with the images\n",
        "\n",
        "Now we have the files, but the format requires a bit of pre-processing before we can work with it. The data is gzipped, requiring us to decompress it. And, each of the images are grayscale-encoded with values from [0, 255]; we'll normalize these to [-0.5, 0.5].\n",
        "\n",
        "Let's try to unpack the data using the documented format:\n",
        "\n",
        "    [offset] [type]          [value]          [description] \n",
        "    0000     32 bit integer  0x00000803(2051) magic number \n",
        "    0004     32 bit integer  60000            number of images \n",
        "    0008     32 bit integer  28               number of rows \n",
        "    0012     32 bit integer  28               number of columns \n",
        "    0016     unsigned byte   ??               pixel \n",
        "    0017     unsigned byte   ??               pixel \n",
        "    ........ \n",
        "    xxxx     unsigned byte   ??               pixel\n",
        "    \n",
        "Pixels are organized row-wise. Pixel values are 0 to 255. 0 means background (white), 255 means foreground (black).\n",
        "\n",
        "We'll start by reading the first image from the test data as a sanity check."
      ]
    },
    {
      "cell_type": "code",
      "metadata": {
        "id": "P_3Fm5BpFMDF",
        "colab_type": "code",
        "colab": {
          "autoexec": {
            "startup": false,
            "wait_interval": 0
          },
          "output_extras": [
            {}
          ]
        },
        "cellView": "both",
        "executionInfo": {
          "elapsed": 57,
          "status": "ok",
          "timestamp": 1446749125010,
          "user": {
            "color": "#1FA15D",
            "displayName": "Michael Piatek",
            "isAnonymous": false,
            "isMe": true,
            "permissionId": "00327059602783983041",
            "photoUrl": "//lh6.googleusercontent.com/-wKJwK_OPl34/AAAAAAAAAAI/AAAAAAAAAlk/Rh3u6O2Z7ns/s50-c-k-no/photo.jpg",
            "sessionId": "716a6ad5e180d821",
            "userId": "106975671469698476657"
          },
          "user_tz": 480
        },
        "outputId": "c8e777e0-d891-4eb1-a178-9809f293cc28"
      },
      "source": [
        "import gzip, binascii, struct, numpy\n",
        "import matplotlib.pyplot as plt\n",
        "\n",
        "with gzip.open(test_data_filename) as f:\n",
        "  # Print the header fields.\n",
        "  for field in ['magic number', 'image count', 'rows', 'columns']:\n",
        "    # struct.unpack reads the binary data provided by f.read.\n",
        "    # The format string '>i' decodes a big-endian integer, which\n",
        "    # is the encoding of the data.\n",
        "    print field, struct.unpack('>i', f.read(4))[0]\n",
        "    \n",
        "  # Read the first 28x28 set of pixel values. \n",
        "  # Each pixel is one byte, [0, 255], a uint8.\n",
        "  buf = f.read(28 * 28)\n",
        "  image = numpy.frombuffer(buf, dtype=numpy.uint8)\n",
        "  \n",
        "  # Print the first few values of image.\n",
        "  print 'First 10 pixels:', image[:10]"
      ],
      "outputs": [
        {
          "output_type": "stream",
          "text": [
            "magic number 2051\n",
            "image count 10000\n",
            "rows 28\n",
            "columns 28\n",
            "First 10 pixels: [0 0 0 0 0 0 0 0 0 0]\n"
          ],
          "name": "stdout"
        }
      ],
      "execution_count": 0
    },
    {
      "cell_type": "markdown",
      "metadata": {
        "id": "7NXKCQENNRQT",
        "colab_type": "text"
      },
      "source": [
        "The first 10 pixels are all 0 values. Not very interesting, but also unsurprising. We'd expect most of the pixel values to be the background color, 0.\n",
        "\n",
        "We could print all 28 * 28 values, but what we really need to do to make sure we're reading our data properly is look at an image."
      ]
    },
    {
      "cell_type": "code",
      "metadata": {
        "id": "F_5w-cOoNLaG",
        "colab_type": "code",
        "colab": {
          "autoexec": {
            "startup": false,
            "wait_interval": 0
          },
          "output_extras": [
            {}
          ]
        },
        "cellView": "both",
        "executionInfo": {
          "elapsed": 887,
          "status": "ok",
          "timestamp": 1446749126640,
          "user": {
            "color": "#1FA15D",
            "displayName": "Michael Piatek",
            "isAnonymous": false,
            "isMe": true,
            "permissionId": "00327059602783983041",
            "photoUrl": "//lh6.googleusercontent.com/-wKJwK_OPl34/AAAAAAAAAAI/AAAAAAAAAlk/Rh3u6O2Z7ns/s50-c-k-no/photo.jpg",
            "sessionId": "716a6ad5e180d821",
            "userId": "106975671469698476657"
          },
          "user_tz": 480
        },
        "outputId": "77dabc81-e3ee-4fcf-ac72-88038494fb6c"
      },
      "source": [
        "%matplotlib inline\n",
        "\n",
        "# We'll show the image and its pixel value histogram side-by-side.\n",
        "_, (ax1, ax2) = plt.subplots(1, 2)\n",
        "\n",
        "# To interpret the values as a 28x28 image, we need to reshape\n",
        "# the numpy array, which is one dimensional.\n",
        "ax1.imshow(image.reshape(28, 28), cmap=plt.cm.Greys);\n",
        "\n",
        "ax2.hist(image, bins=20, range=[0,255]);"
      ],
      "outputs": [
        {
          "output_type": "display_data",
          "metadata": {},
          "data": {
            "image/png": "[encoded data removed]",
            "text/plain": [
              "<matplotlib.figure.Figure at 0x7f22841b4d50>"
            ]
          }
        }
      ],
      "execution_count": 0
    },
    {
      "cell_type": "markdown",
      "metadata": {
        "id": "weVoVR-nN0cN",
        "colab_type": "text"
      },
      "source": [
        "The large number of 0 values correspond to the background of the image, another large mass of value 255 is black, and a mix of grayscale transition values in between.\n",
        "\n",
        "Both the image and histogram look sensible. But, it's good practice when training image models to normalize values to be centered around 0.\n",
        "\n",
        "We'll do that next. The normalization code is fairly short, and it may be tempting to assume we haven't made mistakes, but we'll double-check by looking at the rendered input and histogram again. Malformed inputs are a surprisingly common source of errors when developing new models."
      ]
    },
    {
      "cell_type": "code",
      "metadata": {
        "id": "jc1xCZXHNKVp",
        "colab_type": "code",
        "colab": {
          "autoexec": {
            "startup": false,
            "wait_interval": 0
          },
          "output_extras": [
            {}
          ]
        },
        "cellView": "both",
        "executionInfo": {
          "elapsed": 531,
          "status": "ok",
          "timestamp": 1446749126656,
          "user": {
            "color": "#1FA15D",
            "displayName": "Michael Piatek",
            "isAnonymous": false,
            "isMe": true,
            "permissionId": "00327059602783983041",
            "photoUrl": "//lh6.googleusercontent.com/-wKJwK_OPl34/AAAAAAAAAAI/AAAAAAAAAlk/Rh3u6O2Z7ns/s50-c-k-no/photo.jpg",
            "sessionId": "716a6ad5e180d821",
            "userId": "106975671469698476657"
          },
          "user_tz": 480
        },
        "outputId": "bd45b3dd-438b-41db-ea8f-d202d4a09e63"
      },
      "source": [
        "# Let's convert the uint8 image to 32 bit floats and rescale \n",
        "# the values to be centered around 0, between [-0.5, 0.5]. \n",
        "# \n",
        "# We again plot the image and histogram to check that we \n",
        "# haven't mangled the data.\n",
        "scaled = image.astype(numpy.float32)\n",
        "scaled = (scaled - (255 / 2.0)) / 255\n",
        "_, (ax1, ax2) = plt.subplots(1, 2)\n",
        "ax1.imshow(scaled.reshape(28, 28), cmap=plt.cm.Greys);\n",
        "ax2.hist(scaled, bins=20, range=[-0.5, 0.5]);"
      ],
      "outputs": [
        {
          "output_type": "display_data",
          "metadata": {},
          "data": {
            "image/png": "[encoded data removed]",
            "text/plain": [
              "<matplotlib.figure.Figure at 0x7f22841b4550>"
            ]
          }
        }
      ],
      "execution_count": 0
    },
    {
      "cell_type": "markdown",
      "metadata": {
        "id": "PlqlwkX-O0Hd",
        "colab_type": "text"
      },
      "source": [
        "Great -- we've retained the correct image data while properly rescaling to the range [-0.5, 0.5].\n",
        "\n",
        "## Reading the labels\n",
        "\n",
        "Let's next unpack the test label data. The format here is similar: a magic number followed by a count followed by the labels as `uint8` values. In more detail:\n",
        "\n",
        "    [offset] [type]          [value]          [description] \n",
        "    0000     32 bit integer  0x00000801(2049) magic number (MSB first) \n",
        "    0004     32 bit integer  10000            number of items \n",
        "    0008     unsigned byte   ??               label \n",
        "    0009     unsigned byte   ??               label \n",
        "    ........ \n",
        "    xxxx     unsigned byte   ??               label\n",
        "\n",
        "As with the image data, let's read  the first test set value to sanity check our input path. We'll expect a 7."
      ]
    },
    {
      "cell_type": "code",
      "metadata": {
        "id": "d8zv9yZzQOnV",
        "colab_type": "code",
        "colab": {
          "autoexec": {
            "startup": false,
            "wait_interval": 0
          },
          "output_extras": [
            {}
          ]
        },
        "cellView": "both",
        "executionInfo": {
          "elapsed": 90,
          "status": "ok",
          "timestamp": 1446749126903,
          "user": {
            "color": "#1FA15D",
            "displayName": "Michael Piatek",
            "isAnonymous": false,
            "isMe": true,
            "permissionId": "00327059602783983041",
            "photoUrl": "//lh6.googleusercontent.com/-wKJwK_OPl34/AAAAAAAAAAI/AAAAAAAAAlk/Rh3u6O2Z7ns/s50-c-k-no/photo.jpg",
            "sessionId": "716a6ad5e180d821",
            "userId": "106975671469698476657"
          },
          "user_tz": 480
        },
        "outputId": "ad203b2c-f095-4035-e0cd-7869c078da3d"
      },
      "source": [
        "with gzip.open(test_labels_filename) as f:\n",
        "  # Print the header fields.\n",
        "  for field in ['magic number', 'label count']:\n",
        "    print field, struct.unpack('>i', f.read(4))[0]\n",
        "\n",
        "  print 'First label:', struct.unpack('B', f.read(1))[0]"
      ],
      "outputs": [
        {
          "output_type": "stream",
          "text": [
            "magic number 2049\n",
            "label count 10000\n",
            "First label: 7\n"
          ],
          "name": "stdout"
        }
      ],
      "execution_count": 0
    },
    {
      "cell_type": "markdown",
      "metadata": {
        "id": "zAGrQSXCQtIm",
        "colab_type": "text"
      },
      "source": [
        "Indeed, the first label of the test set is 7.\n",
        "\n",
        "## Forming the training, testing, and validation data sets\n",
        "\n",
        "Now that we understand how to read a single element, we can read a much larger set that we'll use for training, testing, and validation.\n",
        "\n",
        "### Image data\n",
        "\n",
        "The code below is a generalization of our prototyping above that reads the entire test and training data set."
      ]
    },
    {
      "cell_type": "code",
      "metadata": {
        "id": "ofFZ5oJeRMDA",
        "colab_type": "code",
        "colab": {
          "autoexec": {
            "startup": false,
            "wait_interval": 0
          },
          "output_extras": [
            {}
          ]
        },
        "cellView": "both",
        "executionInfo": {
          "elapsed": 734,
          "status": "ok",
          "timestamp": 1446749128718,
          "user": {
            "color": "#1FA15D",
            "displayName": "Michael Piatek",
            "isAnonymous": false,
            "isMe": true,
            "permissionId": "00327059602783983041",
            "photoUrl": "//lh6.googleusercontent.com/-wKJwK_OPl34/AAAAAAAAAAI/AAAAAAAAAlk/Rh3u6O2Z7ns/s50-c-k-no/photo.jpg",
            "sessionId": "716a6ad5e180d821",
            "userId": "106975671469698476657"
          },
          "user_tz": 480
        },
        "outputId": "ff2de90b-aed9-4ce5-db8c-9123496186b1"
      },
      "source": [
        "IMAGE_SIZE = 28\n",
        "PIXEL_DEPTH = 255\n",
        "\n",
        "def extract_data(filename, num_images):\n",
        "  \"\"\"Extract the images into a 4D tensor [image index, y, x, channels].\n",
        "  \n",
        "  For MNIST data, the number of channels is always 1.\n",
        "\n",
        "  Values are rescaled from [0, 255] down to [-0.5, 0.5].\n",
        "  \"\"\"\n",
        "  print 'Extracting', filename\n",
        "  with gzip.open(filename) as bytestream:\n",
        "    # Skip the magic number and dimensions; we know these values.\n",
        "    bytestream.read(16)\n",
        "    \n",
        "    buf = bytestream.read(IMAGE_SIZE * IMAGE_SIZE * num_images)\n",
        "    data = numpy.frombuffer(buf, dtype=numpy.uint8).astype(numpy.float32)\n",
        "    data = (data - (PIXEL_DEPTH / 2.0)) / PIXEL_DEPTH\n",
        "    data = data.reshape(num_images, IMAGE_SIZE, IMAGE_SIZE, 1)\n",
        "    return data\n",
        "\n",
        "train_data = extract_data(train_data_filename, 60000)\n",
        "test_data = extract_data(test_data_filename, 10000)"
      ],
      "outputs": [
        {
          "output_type": "stream",
          "text": [
            "Extracting /tmp/mnist-data/train-images-idx3-ubyte.gz\n",
            "Extracting /tmp/mnist-data/t10k-images-idx3-ubyte.gz\n"
          ],
          "name": "stdout"
        }
      ],
      "execution_count": 0
    },
    {
      "cell_type": "markdown",
      "metadata": {
        "id": "0x4rwXxUR96O",
        "colab_type": "text"
      },
      "source": [
        "A crucial difference here is how we `reshape` the array of pixel values. Instead of one image that's 28x28, we now have a set of 60,000 images, each one being 28x28. We also include a number of channels, which for grayscale images as we have here is 1.\n",
        "\n",
        "Let's make sure we've got the reshaping parameters right by inspecting the dimensions and the first two images. (Again, mangled input is a very common source of errors.)"
      ]
    },
    {
      "cell_type": "code",
      "metadata": {
        "id": "0AwSo8mlSja_",
        "colab_type": "code",
        "colab": {
          "autoexec": {
            "startup": false,
            "wait_interval": 0
          },
          "output_extras": [
            {},
            {}
          ]
        },
        "cellView": "both",
        "executionInfo": {
          "elapsed": 400,
          "status": "ok",
          "timestamp": 1446749129657,
          "user": {
            "color": "#1FA15D",
            "displayName": "Michael Piatek",
            "isAnonymous": false,
            "isMe": true,
            "permissionId": "00327059602783983041",
            "photoUrl": "//lh6.googleusercontent.com/-wKJwK_OPl34/AAAAAAAAAAI/AAAAAAAAAlk/Rh3u6O2Z7ns/s50-c-k-no/photo.jpg",
            "sessionId": "716a6ad5e180d821",
            "userId": "106975671469698476657"
          },
          "user_tz": 480
        },
        "outputId": "11490c39-7c67-4fe5-982c-ca8278294d96"
      },
      "source": [
        "print 'Training data shape', train_data.shape\n",
        "_, (ax1, ax2) = plt.subplots(1, 2)\n",
        "ax1.imshow(train_data[0].reshape(28, 28), cmap=plt.cm.Greys);\n",
        "ax2.imshow(train_data[1].reshape(28, 28), cmap=plt.cm.Greys);"
      ],
      "outputs": [
        {
          "output_type": "stream",
          "text": [
            "Training data shape (60000, 28, 28, 1)\n"
          ],
          "name": "stdout"
        },
        {
          "output_type": "display_data",
          "metadata": {},
          "data": {
            "image/png": "[encoded data removed]",
            "text/plain": [
              "<matplotlib.figure.Figure at 0x7f22684f2890>"
            ]
          }
        }
      ],
      "execution_count": 0
    },
    {
      "cell_type": "markdown",
      "metadata": {
        "id": "cwBhQ3ouTQcW",
        "colab_type": "text"
      },
      "source": [
        "Looks good. Now we know how to index our full set of training and test images."
      ]
    },
    {
      "cell_type": "markdown",
      "metadata": {
        "id": "PBCB9aYxRvBi",
        "colab_type": "text"
      },
      "source": [
        "### Label data\n",
        "\n",
        "Let's move on to loading the full set of labels. As is typical in classification problems, we'll convert our input labels into a [1-hot](https://en.wikipedia.org/wiki/One-hot) encoding over a length 10 vector corresponding to 10 digits. The vector [0, 1, 0, 0, 0, 0, 0, 0, 0, 0], for example, would correspond to the digit 1."
      ]
    },
    {
      "cell_type": "code",
      "metadata": {
        "id": "9pK1j2WlRwY9",
        "colab_type": "code",
        "colab": {
          "autoexec": {
            "startup": false,
            "wait_interval": 0
          },
          "output_extras": [
            {
              "item_id": 1
            }
          ]
        },
        "cellView": "both",
        "executionInfo": {
          "elapsed": 191,
          "status": "ok",
          "timestamp": 1446749131421,
          "user": {
            "color": "#1FA15D",
            "displayName": "Michael Piatek",
            "isAnonymous": false,
            "isMe": true,
            "permissionId": "00327059602783983041",
            "photoUrl": "//lh6.googleusercontent.com/-wKJwK_OPl34/AAAAAAAAAAI/AAAAAAAAAlk/Rh3u6O2Z7ns/s50-c-k-no/photo.jpg",
            "sessionId": "716a6ad5e180d821",
            "userId": "106975671469698476657"
          },
          "user_tz": 480
        },
        "outputId": "1ca31655-e14f-405a-b266-6a6c78827af5"
      },
      "source": [
        "NUM_LABELS = 10\n",
        "\n",
        "def extract_labels(filename, num_images):\n",
        "  \"\"\"Extract the labels into a 1-hot matrix [image index, label index].\"\"\"\n",
        "  print 'Extracting', filename\n",
        "  with gzip.open(filename) as bytestream:\n",
        "    # Skip the magic number and count; we know these values.\n",
        "    bytestream.read(8)\n",
        "    \n",
        "    buf = bytestream.read(1 * num_images)\n",
        "    labels = numpy.frombuffer(buf, dtype=numpy.uint8)\n",
        "  # Convert to dense 1-hot representation.\n",
        "  return (numpy.arange(NUM_LABELS) == labels[:, None]).astype(numpy.float32)\n",
        "\n",
        "train_labels = extract_labels(train_labels_filename, 60000)\n",
        "test_labels = extract_labels(test_labels_filename, 10000)"
      ],
      "outputs": [
        {
          "output_type": "stream",
          "text": [
            "Extracting /tmp/mnist-data/train-labels-idx1-ubyte.gz\n",
            "Extracting /tmp/mnist-data/t10k-labels-idx1-ubyte.gz\n"
          ],
          "name": "stdout"
        }
      ],
      "execution_count": 0
    },
    {
      "cell_type": "markdown",
      "metadata": {
        "id": "hb3Vaq72UUxW",
        "colab_type": "text"
      },
      "source": [
        "As with our image data, we'll double-check that our 1-hot encoding of the first few values matches our expectations."
      ]
    },
    {
      "cell_type": "code",
      "metadata": {
        "id": "uEBID71nUVj1",
        "colab_type": "code",
        "colab": {
          "autoexec": {
            "startup": false,
            "wait_interval": 0
          },
          "output_extras": [
            {
              "item_id": 1
            }
          ]
        },
        "cellView": "both",
        "executionInfo": {
          "elapsed": 127,
          "status": "ok",
          "timestamp": 1446749132853,
          "user": {
            "color": "#1FA15D",
            "displayName": "Michael Piatek",
            "isAnonymous": false,
            "isMe": true,
            "permissionId": "00327059602783983041",
            "photoUrl": "//lh6.googleusercontent.com/-wKJwK_OPl34/AAAAAAAAAAI/AAAAAAAAAlk/Rh3u6O2Z7ns/s50-c-k-no/photo.jpg",
            "sessionId": "716a6ad5e180d821",
            "userId": "106975671469698476657"
          },
          "user_tz": 480
        },
        "outputId": "3f318310-18dd-49ed-9943-47b4aae7ee69"
      },
      "source": [
        "print 'Training labels shape', train_labels.shape\n",
        "print 'First label vector', train_labels[0]\n",
        "print 'Second label vector', train_labels[1]"
      ],
      "outputs": [
        {
          "output_type": "stream",
          "text": [
            "Training labels shape (60000, 10)\n",
            "First label vector [ 0.  0.  0.  0.  0.  1.  0.  0.  0.  0.]\n",
            "Second label vector [ 1.  0.  0.  0.  0.  0.  0.  0.  0.  0.]\n"
          ],
          "name": "stdout"
        }
      ],
      "execution_count": 0
    },
    {
      "cell_type": "markdown",
      "metadata": {
        "id": "5EwtEhxRUneF",
        "colab_type": "text"
      },
      "source": [
        "The 1-hot encoding looks reasonable.\n",
        "\n",
        "### Segmenting data into training, test, and validation\n",
        "\n",
        "The final step in preparing our data is to split it into three sets: training, test, and validation. This isn't the format of the original data set, so we'll take a small slice of the training data and treat that as our validation set."
      ]
    },
    {
      "cell_type": "code",
      "metadata": {
        "id": "e7aBYBtIVxHE",
        "colab_type": "code",
        "colab": {
          "autoexec": {
            "startup": false,
            "wait_interval": 0
          },
          "output_extras": [
            {
              "item_id": 1
            }
          ]
        },
        "cellView": "both",
        "executionInfo": {
          "elapsed": 176,
          "status": "ok",
          "timestamp": 1446749134110,
          "user": {
            "color": "#1FA15D",
            "displayName": "Michael Piatek",
            "isAnonymous": false,
            "isMe": true,
            "permissionId": "00327059602783983041",
            "photoUrl": "//lh6.googleusercontent.com/-wKJwK_OPl34/AAAAAAAAAAI/AAAAAAAAAlk/Rh3u6O2Z7ns/s50-c-k-no/photo.jpg",
            "sessionId": "716a6ad5e180d821",
            "userId": "106975671469698476657"
          },
          "user_tz": 480
        },
        "outputId": "bdeae1a8-daff-4743-e594-f1d2229c0f4e"
      },
      "source": [
        "VALIDATION_SIZE = 5000\n",
        "\n",
        "validation_data = train_data[:VALIDATION_SIZE, :, :, :]\n",
        "validation_labels = train_labels[:VALIDATION_SIZE]\n",
        "train_data = train_data[VALIDATION_SIZE:, :, :, :]\n",
        "train_labels = train_labels[VALIDATION_SIZE:]\n",
        "\n",
        "train_size = train_labels.shape[0]\n",
        "\n",
        "print 'Validation shape', validation_data.shape\n",
        "print 'Train size', train_size"
      ],
      "outputs": [
        {
          "output_type": "stream",
          "text": [
            "Validation shape (5000, 28, 28, 1)\n",
            "Train size 55000\n"
          ],
          "name": "stdout"
        }
      ],
      "execution_count": 0
    },
    {
      "cell_type": "markdown",
      "metadata": {
        "id": "1JFhEH8EVj4O",
        "colab_type": "text"
      },
      "source": [
        "# Defining the model\n",
        "\n",
        "Now that we've prepared our data, we're ready to define our model.\n",
        "\n",
        "The comments describe the architecture, which fairly typical of models that process image data. The raw input passes through several [convolution](https://en.wikipedia.org/wiki/Convolutional_neural_network#Convolutional_layer) and [max pooling](https://en.wikipedia.org/wiki/Convolutional_neural_network#Pooling_layer) layers with [rectified linear](https://en.wikipedia.org/wiki/Convolutional_neural_network#ReLU_layer) activations before several fully connected layers and a [softmax](https://en.wikipedia.org/wiki/Convolutional_neural_network#Loss_layer) loss for predicting the output class. During training, we use [dropout](https://en.wikipedia.org/wiki/Convolutional_neural_network#Dropout_method).\n",
        "\n",
        "We'll separate our model definition into three steps:\n",
        "\n",
        "1. Defining the variables that will hold the trainable weights.\n",
        "1. Defining the basic model graph structure described above. And,\n",
        "1. Stamping out several copies of the model graph for training, testing, and validation.\n",
        "\n",
        "We'll start with the variables."
      ]
    },
    {
      "cell_type": "code",
      "metadata": {
        "id": "Q1VfiAzjzuK8",
        "colab_type": "code",
        "colab": {
          "autoexec": {
            "startup": false,
            "wait_interval": 0
          },
          "output_extras": [
            {
              "item_id": 1
            }
          ]
        },
        "cellView": "both",
        "executionInfo": {
          "elapsed": 2081,
          "status": "ok",
          "timestamp": 1446749138298,
          "user": {
            "color": "#1FA15D",
            "displayName": "Michael Piatek",
            "isAnonymous": false,
            "isMe": true,
            "permissionId": "00327059602783983041",
            "photoUrl": "//lh6.googleusercontent.com/-wKJwK_OPl34/AAAAAAAAAAI/AAAAAAAAAlk/Rh3u6O2Z7ns/s50-c-k-no/photo.jpg",
            "sessionId": "716a6ad5e180d821",
            "userId": "106975671469698476657"
          },
          "user_tz": 480
        },
        "outputId": "f53a39c9-3a52-47ca-d7a3-9f9d84eccf63"
      },
      "source": [
        "import tensorflow as tf\n",
        "\n",
        "# We'll bundle groups of examples during training for efficiency.\n",
        "# This defines the size of the batch.\n",
        "BATCH_SIZE = 60\n",
        "# We have only one channel in our grayscale images.\n",
        "NUM_CHANNELS = 1\n",
        "# The random seed that defines initialization.\n",
        "SEED = 42\n",
        "\n",
        "# This is where training samples and labels are fed to the graph.\n",
        "# These placeholder nodes will be fed a batch of training data at each\n",
        "# training step, which we'll write once we define the graph structure.\n",
        "train_data_node = tf.placeholder(\n",
        "  tf.float32,\n",
        "  shape=(BATCH_SIZE, IMAGE_SIZE, IMAGE_SIZE, NUM_CHANNELS))\n",
        "train_labels_node = tf.placeholder(tf.float32,\n",
        "                                   shape=(BATCH_SIZE, NUM_LABELS))\n",
        "\n",
        "# For the validation and test data, we'll just hold the entire dataset in\n",
        "# one constant node.\n",
        "validation_data_node = tf.constant(validation_data)\n",
        "test_data_node = tf.constant(test_data)\n",
        "\n",
        "# The variables below hold all the trainable weights. For each, the\n",
        "# parameter defines how the variables will be initialized.\n",
        "conv1_weights = tf.Variable(\n",
        "  tf.truncated_normal([5, 5, NUM_CHANNELS, 32],  # 5x5 filter, depth 32.\n",
        "                      stddev=0.1,\n",
        "                      seed=SEED))\n",
        "conv1_biases = tf.Variable(tf.zeros([32]))\n",
        "conv2_weights = tf.Variable(\n",
        "  tf.truncated_normal([5, 5, 32, 64],\n",
        "                      stddev=0.1,\n",
        "                      seed=SEED))\n",
        "conv2_biases = tf.Variable(tf.constant(0.1, shape=[64]))\n",
        "fc1_weights = tf.Variable(  # fully connected, depth 512.\n",
        "  tf.truncated_normal([IMAGE_SIZE / 4 * IMAGE_SIZE / 4 * 64, 512],\n",
        "                      stddev=0.1,\n",
        "                      seed=SEED))\n",
        "fc1_biases = tf.Variable(tf.constant(0.1, shape=[512]))\n",
        "fc2_weights = tf.Variable(\n",
        "  tf.truncated_normal([512, NUM_LABELS],\n",
        "                      stddev=0.1,\n",
        "                      seed=SEED))\n",
        "fc2_biases = tf.Variable(tf.constant(0.1, shape=[NUM_LABELS]))\n",
        "\n",
        "print 'Done'"
      ],
      "outputs": [
        {
          "output_type": "stream",
          "text": [
            "Done\n"
          ],
          "name": "stdout"
        }
      ],
      "execution_count": 0
    },
    {
      "cell_type": "markdown",
      "metadata": {
        "id": "QHB_u04Z4HO6",
        "colab_type": "text"
      },
      "source": [
        "Now that we've defined the variables to be trained, we're ready to wire them together into a TensorFlow graph.\n",
        "\n",
        "We'll define a helper to do this, `model`, which will return copies of the graph suitable for training and testing. Note the `train` argument, which controls whether or not dropout is used in the hidden layer. (We want to use dropout only during training.)"
      ]
    },
    {
      "cell_type": "code",
      "metadata": {
        "id": "V85_B9QF3uBp",
        "colab_type": "code",
        "colab": {
          "autoexec": {
            "startup": false,
            "wait_interval": 0
          },
          "output_extras": [
            {
              "item_id": 1
            }
          ]
        },
        "cellView": "both",
        "executionInfo": {
          "elapsed": 772,
          "status": "ok",
          "timestamp": 1446749138306,
          "user": {
            "color": "#1FA15D",
            "displayName": "Michael Piatek",
            "isAnonymous": false,
            "isMe": true,
            "permissionId": "00327059602783983041",
            "photoUrl": "//lh6.googleusercontent.com/-wKJwK_OPl34/AAAAAAAAAAI/AAAAAAAAAlk/Rh3u6O2Z7ns/s50-c-k-no/photo.jpg",
            "sessionId": "716a6ad5e180d821",
            "userId": "106975671469698476657"
          },
          "user_tz": 480
        },
        "outputId": "457d3e49-73ad-4451-c196-421dd4681efc"
      },
      "source": [
        "def model(data, train=False):\n",
        "  \"\"\"The Model definition.\"\"\"\n",
        "  # 2D convolution, with 'SAME' padding (i.e. the output feature map has\n",
        "  # the same size as the input). Note that {strides} is a 4D array whose\n",
        "  # shape matches the data layout: [image index, y, x, depth].\n",
        "  conv = tf.nn.conv2d(data,\n",
        "                      conv1_weights,\n",
        "                      strides=[1, 1, 1, 1],\n",
        "                      padding='SAME')\n",
        "\n",
        "  # Bias and rectified linear non-linearity.\n",
        "  relu = tf.nn.relu(tf.nn.bias_add(conv, conv1_biases))\n",
        "  \n",
        "  # Max pooling. The kernel size spec ksize also follows the layout of\n",
        "  # the data. Here we have a pooling window of 2, and a stride of 2.\n",
        "  pool = tf.nn.max_pool(relu,\n",
        "                        ksize=[1, 2, 2, 1],\n",
        "                        strides=[1, 2, 2, 1],\n",
        "                        padding='SAME')\n",
        "  conv = tf.nn.conv2d(pool,\n",
        "                      conv2_weights,\n",
        "                      strides=[1, 1, 1, 1],\n",
        "                      padding='SAME')\n",
        "  relu = tf.nn.relu(tf.nn.bias_add(conv, conv2_biases))\n",
        "  pool = tf.nn.max_pool(relu,\n",
        "                        ksize=[1, 2, 2, 1],\n",
        "                        strides=[1, 2, 2, 1],\n",
        "                        padding='SAME')\n",
        "  \n",
        "  # Reshape the feature map cuboid into a 2D matrix to feed it to the\n",
        "  # fully connected layers.\n",
        "  pool_shape = pool.get_shape().as_list()\n",
        "  reshape = tf.reshape(\n",
        "      pool,\n",
        "      [pool_shape[0], pool_shape[1] * pool_shape[2] * pool_shape[3]])\n",
        "  \n",
        "  # Fully connected layer. Note that the '+' operation automatically\n",
        "  # broadcasts the biases.\n",
        "  hidden = tf.nn.relu(tf.matmul(reshape, fc1_weights) + fc1_biases)\n",
        "  \n",
        "  # Add a 50% dropout during training only. Dropout also scales\n",
        "  # activations such that no rescaling is needed at evaluation time.\n",
        "  if train:\n",
        "    hidden = tf.nn.dropout(hidden, 0.5, seed=SEED)\n",
        "  return tf.matmul(hidden, fc2_weights) + fc2_biases\n",
        "\n",
        "print 'Done'"
      ],
      "outputs": [
        {
          "output_type": "stream",
          "text": [
            "Done\n"
          ],
          "name": "stdout"
        }
      ],
      "execution_count": 0
    },
    {
      "cell_type": "markdown",
      "metadata": {
        "id": "7bvEtt8C4fLC",
        "colab_type": "text"
      },
      "source": [
        "Having defined the basic structure of the graph, we're ready to stamp out multiple copies for training, testing, and validation.\n",
        "\n",
        "Here, we'll do some customizations depending on which graph we're constructing. `train_prediction` holds the training graph, for which we use cross-entropy loss and weight regularization. We'll adjust the learning rate during training -- that's handled by the `exponential_decay` operation, which is itself an argument to the `MomentumOptimizer` that performs the actual training.\n",
        "\n",
        "The vaildation and prediction graphs are much simpler the generate -- we need only create copies of the model with the validation and test inputs and a softmax classifier as the output."
      ]
    },
    {
      "cell_type": "code",
      "metadata": {
        "id": "9pR1EBNT3sCv",
        "colab_type": "code",
        "colab": {
          "autoexec": {
            "startup": false,
            "wait_interval": 0
          },
          "output_extras": [
            {
              "item_id": 1
            }
          ]
        },
        "cellView": "both",
        "executionInfo": {
          "elapsed": 269,
          "status": "ok",
          "timestamp": 1446749139596,
          "user": {
            "color": "#1FA15D",
            "displayName": "Michael Piatek",
            "isAnonymous": false,
            "isMe": true,
            "permissionId": "00327059602783983041",
            "photoUrl": "//lh6.googleusercontent.com/-wKJwK_OPl34/AAAAAAAAAAI/AAAAAAAAAlk/Rh3u6O2Z7ns/s50-c-k-no/photo.jpg",
            "sessionId": "716a6ad5e180d821",
            "userId": "106975671469698476657"
          },
          "user_tz": 480
        },
        "outputId": "570681b1-f33e-4618-b742-48e12aa58132"
      },
      "source": [
        "# Training computation: logits + cross-entropy loss.\n",
        "logits = model(train_data_node, True)\n",
        "loss = tf.reduce_mean(tf.nn.softmax_cross_entropy_with_logits(\n",
        "  logits, train_labels_node))\n",
        "\n",
        "# L2 regularization for the fully connected parameters.\n",
        "regularizers = (tf.nn.l2_loss(fc1_weights) + tf.nn.l2_loss(fc1_biases) +\n",
        "                tf.nn.l2_loss(fc2_weights) + tf.nn.l2_loss(fc2_biases))\n",
        "# Add the regularization term to the loss.\n",
        "loss += 5e-4 * regularizers\n",
        "\n",
        "# Optimizer: set up a variable that's incremented once per batch and\n",
        "# controls the learning rate decay.\n",
        "batch = tf.Variable(0)\n",
        "# Decay once per epoch, using an exponential schedule starting at 0.01.\n",
        "learning_rate = tf.train.exponential_decay(\n",
        "  0.01,                # Base learning rate.\n",
        "  batch * BATCH_SIZE,  # Current index into the dataset.\n",
        "  train_size,          # Decay step.\n",
        "  0.95,                # Decay rate.\n",
        "  staircase=True)\n",
        "# Use simple momentum for the optimization.\n",
        "optimizer = tf.train.MomentumOptimizer(learning_rate,\n",
        "                                       0.9).minimize(loss,\n",
        "                                                     global_step=batch)\n",
        "\n",
        "# Predictions for the minibatch, validation set and test set.\n",
        "train_prediction = tf.nn.softmax(logits)\n",
        "# We'll compute them only once in a while by calling their {eval()} method.\n",
        "validation_prediction = tf.nn.softmax(model(validation_data_node))\n",
        "test_prediction = tf.nn.softmax(model(test_data_node))\n",
        "\n",
        "print 'Done'"
      ],
      "outputs": [
        {
          "output_type": "stream",
          "text": [
            "Done\n"
          ],
          "name": "stdout"
        }
      ],
      "execution_count": 0
    },
    {
      "cell_type": "markdown",
      "metadata": {
        "id": "4T21uZJq5UfH",
        "colab_type": "text"
      },
      "source": [
        "# Training and visualizing results\n",
        "\n",
        "Now that we have the training, test, and validation graphs, we're ready to actually go through the training loop and periodically evaluate loss and error.\n",
        "\n",
        "All of these operations take place in the context of a session. In Python, we'd write something like:\n",
        "\n",
        "    with tf.Session() as s:\n",
        "      ...training / test / evaluation loop...\n",
        "  \n",
        "But, here, we'll want to keep the session open so we can poke at values as we work out the details of training. The TensorFlow API includes a function for this, `InteractiveSession`.\n",
        "\n",
        "We'll start by creating a session and initializing the varibles we defined above."
      ]
    },
    {
      "cell_type": "code",
      "metadata": {
        "id": "z6Kc5iql6qxV",
        "colab_type": "code",
        "colab": {
          "autoexec": {
            "startup": false,
            "wait_interval": 0
          }
        },
        "cellView": "both"
      },
      "source": [
        "# Create a new interactive session that we'll use in\n",
        "# subsequent code cells.\n",
        "s = tf.InteractiveSession()\n",
        "\n",
        "# Use our newly created session as the default for \n",
        "# subsequent operations.\n",
        "s.as_default()\n",
        "\n",
        "# Initialize all the variables we defined above.\n",
        "tf.initialize_all_variables().run()"
      ],
      "outputs": [],
      "execution_count": 0
    },
    {
      "cell_type": "markdown",
      "metadata": {
        "id": "hcG8H-Ka6_mw",
        "colab_type": "text"
      },
      "source": [
        "Now we're ready to perform operations on the graph. Let's start with one round of training. We're going to organize our training steps into batches for efficiency; i.e., training using a small set of examples at each step rather than a single example."
      ]
    },
    {
      "cell_type": "code",
      "metadata": {
        "id": "LYVxeEox71Pg",
        "colab_type": "code",
        "colab": {
          "autoexec": {
            "startup": false,
            "wait_interval": 0
          },
          "output_extras": [
            {
              "item_id": 1
            }
          ]
        },
        "cellView": "both",
        "executionInfo": {
          "elapsed": 386,
          "status": "ok",
          "timestamp": 1446749389138,
          "user": {
            "color": "#1FA15D",
            "displayName": "Michael Piatek",
            "isAnonymous": false,
            "isMe": true,
            "permissionId": "00327059602783983041",
            "photoUrl": "//lh6.googleusercontent.com/-wKJwK_OPl34/AAAAAAAAAAI/AAAAAAAAAlk/Rh3u6O2Z7ns/s50-c-k-no/photo.jpg",
            "sessionId": "716a6ad5e180d821",
            "userId": "106975671469698476657"
          },
          "user_tz": 480
        },
        "outputId": "9184b5df-009a-4b1b-e312-5be94351351f"
      },
      "source": [
        "BATCH_SIZE = 60\n",
        "\n",
        "# Grab the first BATCH_SIZE examples and labels.\n",
        "batch_data = train_data[:BATCH_SIZE, :, :, :]\n",
        "batch_labels = train_labels[:BATCH_SIZE]\n",
        "\n",
        "# This dictionary maps the batch data (as a numpy array) to the\n",
        "# node in the graph it should be fed to.\n",
        "feed_dict = {train_data_node: batch_data,\n",
        "             train_labels_node: batch_labels}\n",
        "\n",
        "# Run the graph and fetch some of the nodes.\n",
        "_, l, lr, predictions = s.run(\n",
        "  [optimizer, loss, learning_rate, train_prediction],\n",
        "  feed_dict=feed_dict)\n",
        "\n",
        "print 'Done'"
      ],
      "outputs": [
        {
          "output_type": "stream",
          "text": [
            "Done\n"
          ],
          "name": "stdout"
        }
      ],
      "execution_count": 0
    },
    {
      "cell_type": "markdown",
      "metadata": {
        "id": "7bL4-RNm_K-B",
        "colab_type": "text"
      },
      "source": [
        "Let's take a look at the predictions. How did we do? Recall that the output will be probabilities over the possible classes, so let's look at those probabilities."
      ]
    },
    {
      "cell_type": "code",
      "metadata": {
        "id": "2eNitV_4_ZUL",
        "colab_type": "code",
        "colab": {
          "autoexec": {
            "startup": false,
            "wait_interval": 0
          },
          "output_extras": [
            {
              "item_id": 1
            }
          ]
        },
        "cellView": "both",
        "executionInfo": {
          "elapsed": 160,
          "status": "ok",
          "timestamp": 1446749519023,
          "user": {
            "color": "#1FA15D",
            "displayName": "Michael Piatek",
            "isAnonymous": false,
            "isMe": true,
            "permissionId": "00327059602783983041",
            "photoUrl": "//lh6.googleusercontent.com/-wKJwK_OPl34/AAAAAAAAAAI/AAAAAAAAAlk/Rh3u6O2Z7ns/s50-c-k-no/photo.jpg",
            "sessionId": "716a6ad5e180d821",
            "userId": "106975671469698476657"
          },
          "user_tz": 480
        },
        "outputId": "f1340dd1-255b-4523-bf62-7e3ebb361333"
      },
      "source": [
        "print predictions[0]"
      ],
      "outputs": [
        {
          "output_type": "stream",
          "text": [
            "[  2.25393465e-04   4.76219648e-05   1.66868104e-03   5.67830284e-05\n",
            "   6.03432834e-01   4.34970111e-02   2.19316153e-05   1.41285171e-04\n",
            "   1.54902827e-05   3.50893021e-01]\n"
          ],
          "name": "stdout"
        }
      ],
      "execution_count": 0
    },
    {
      "cell_type": "markdown",
      "metadata": {
        "id": "X5MgraJb_eQZ",
        "colab_type": "text"
      },
      "source": [
        "As expected without training, the predictions are all noise. Let's write a scoring function that picks the class with the maximum probability and compares with the example's label. We'll start by converting the probability vectors returned by the softmax into predictions we can match against the labels."
      ]
    },
    {
      "cell_type": "code",
      "metadata": {
        "id": "wMMlUf5rCKgT",
        "colab_type": "code",
        "colab": {
          "autoexec": {
            "startup": false,
            "wait_interval": 0
          },
          "output_extras": [
            {
              "item_id": 1
            }
          ]
        },
        "cellView": "both",
        "executionInfo": {
          "elapsed": 220,
          "status": "ok",
          "timestamp": 1446750411574,
          "user": {
            "color": "#1FA15D",
            "displayName": "Michael Piatek",
            "isAnonymous": false,
            "isMe": true,
            "permissionId": "00327059602783983041",
            "photoUrl": "//lh6.googleusercontent.com/-wKJwK_OPl34/AAAAAAAAAAI/AAAAAAAAAlk/Rh3u6O2Z7ns/s50-c-k-no/photo.jpg",
            "sessionId": "716a6ad5e180d821",
            "userId": "106975671469698476657"
          },
          "user_tz": 480
        },
        "outputId": "2c10e96d-52b6-47b0-b6eb-969ad462d46b"
      },
      "source": [
        "# The highest probability in the first entry.\n",
        "print 'First prediction', numpy.argmax(predictions[0])\n",
        "\n",
        "# But, predictions is actually a list of BATCH_SIZE probability vectors.\n",
        "print predictions.shape\n",
        "\n",
        "# So, we'll take the highest probability for each vector.\n",
        "print 'All predictions', numpy.argmax(predictions, 1)"
      ],
      "outputs": [
        {
          "output_type": "stream",
          "text": [
            "First prediction 4\n",
            "(60, 10)\n",
            "All predictions [4 4 2 7 7 7 7 7 7 7 7 7 0 8 9 0 7 7 0 7 4 0 5 0 9 9 7 0 7 4 7 7 7 0 7 7 9\n",
            " 7 9 9 0 7 7 7 2 7 0 7 2 9 9 9 9 9 0 7 9 4 8 7]\n"
          ],
          "name": "stdout"
        }
      ],
      "execution_count": 0
    },
    {
      "cell_type": "markdown",
      "metadata": {
        "id": "8pMCIZ3_C2ni",
        "colab_type": "text"
      },
      "source": [
        "Next, we can do the same thing for our labels -- using `argmax` to convert our 1-hot encoding into a digit class."
      ]
    },
    {
      "cell_type": "code",
      "metadata": {
        "id": "kZWp4T0JDDUe",
        "colab_type": "code",
        "colab": {
          "autoexec": {
            "startup": false,
            "wait_interval": 0
          },
          "output_extras": [
            {
              "item_id": 1
            }
          ]
        },
        "cellView": "both",
        "executionInfo": {
          "elapsed": 232,
          "status": "ok",
          "timestamp": 1446750498351,
          "user": {
            "color": "#1FA15D",
            "displayName": "Michael Piatek",
            "isAnonymous": false,
            "isMe": true,
            "permissionId": "00327059602783983041",
            "photoUrl": "//lh6.googleusercontent.com/-wKJwK_OPl34/AAAAAAAAAAI/AAAAAAAAAlk/Rh3u6O2Z7ns/s50-c-k-no/photo.jpg",
            "sessionId": "716a6ad5e180d821",
            "userId": "106975671469698476657"
          },
          "user_tz": 480
        },
        "outputId": "47b588cd-bc82-45c3-a5d0-8d84dc27a3be"
      },
      "source": [
        "print 'Batch labels', numpy.argmax(batch_labels, 1)"
      ],
      "outputs": [
        {
          "output_type": "stream",
          "text": [
            "Batch labels [7 3 4 6 1 8 1 0 9 8 0 3 1 2 7 0 2 9 6 0 1 6 7 1 9 7 6 5 5 8 8 3 4 4 8 7 3\n",
            " 6 4 6 6 3 8 8 9 9 4 4 0 7 8 1 0 0 1 8 5 7 1 7]\n"
          ],
          "name": "stdout"
        }
      ],
      "execution_count": 0
    },
    {
      "cell_type": "markdown",
      "metadata": {
        "id": "bi5Z6whtDiht",
        "colab_type": "text"
      },
      "source": [
        "Now we can compare the predicted and label classes to compute the error rate and confusion matrix for this batch."
      ]
    },
    {
      "cell_type": "code",
      "metadata": {
        "id": "U4hrLW4CDtQB",
        "colab_type": "code",
        "colab": {
          "autoexec": {
            "startup": false,
            "wait_interval": 0
          },
          "output_extras": [
            {
              "item_id": 1
            },
            {
              "item_id": 2
            }
          ]
        },
        "cellView": "both",
        "executionInfo": {
          "elapsed": 330,
          "status": "ok",
          "timestamp": 1446751307304,
          "user": {
            "color": "#1FA15D",
            "displayName": "Michael Piatek",
            "isAnonymous": false,
            "isMe": true,
            "permissionId": "00327059602783983041",
            "photoUrl": "//lh6.googleusercontent.com/-wKJwK_OPl34/AAAAAAAAAAI/AAAAAAAAAlk/Rh3u6O2Z7ns/s50-c-k-no/photo.jpg",
            "sessionId": "716a6ad5e180d821",
            "userId": "106975671469698476657"
          },
          "user_tz": 480
        },
        "outputId": "720494a3-cbf9-4687-9d94-e64a33fdd78f"
      },
      "source": [
        "correct = numpy.sum(numpy.argmax(predictions, 1) == numpy.argmax(batch_labels, 1))\n",
        "total = predictions.shape[0]\n",
        "\n",
        "print float(correct) / float(total)\n",
        "\n",
        "confusions = numpy.zeros([10, 10], numpy.float32)\n",
        "bundled = zip(numpy.argmax(predictions, 1), numpy.argmax(batch_labels, 1))\n",
        "for predicted, actual in bundled:\n",
        "  confusions[predicted, actual] += 1\n",
        "\n",
        "plt.grid(False)\n",
        "plt.xticks(numpy.arange(NUM_LABELS))\n",
        "plt.yticks(numpy.arange(NUM_LABELS))\n",
        "plt.imshow(confusions, cmap=plt.cm.jet, interpolation='nearest');"
      ],
      "outputs": [
        {
          "output_type": "stream",
          "text": [
            "0.0666666666667\n"
          ],
          "name": "stdout"
        },
        {
          "output_type": "display_data",
          "metadata": {},
          "data": {
            "image/png": "[encoded data removed]",
            "text/plain": [
              "<matplotlib.figure.Figure at 0x7f226836c350>"
            ]
          }
        }
      ],
      "execution_count": 0
    },
    {
      "cell_type": "markdown",
      "metadata": {
        "id": "iZmx_9DiDXQ3",
        "colab_type": "text"
      },
      "source": [
        "Now let's wrap this up into our scoring function."
      ]
    },
    {
      "cell_type": "code",
      "metadata": {
        "id": "DPJie7bPDaLa",
        "colab_type": "code",
        "colab": {
          "autoexec": {
            "startup": false,
            "wait_interval": 0
          },
          "output_extras": [
            {
              "item_id": 1
            }
          ]
        },
        "cellView": "both",
        "executionInfo": {
          "elapsed": 178,
          "status": "ok",
          "timestamp": 1446751995007,
          "user": {
            "color": "#1FA15D",
            "displayName": "Michael Piatek",
            "isAnonymous": false,
            "isMe": true,
            "permissionId": "00327059602783983041",
            "photoUrl": "//lh6.googleusercontent.com/-wKJwK_OPl34/AAAAAAAAAAI/AAAAAAAAAlk/Rh3u6O2Z7ns/s50-c-k-no/photo.jpg",
            "sessionId": "716a6ad5e180d821",
            "userId": "106975671469698476657"
          },
          "user_tz": 480
        },
        "outputId": "a06c64ed-f95f-416f-a621-44cccdaba0f8"
      },
      "source": [
        "def error_rate(predictions, labels):\n",
        "  \"\"\"Return the error rate and confusions.\"\"\"\n",
        "  correct = numpy.sum(numpy.argmax(predictions, 1) == numpy.argmax(labels, 1))\n",
        "  total = predictions.shape[0]\n",
        "\n",
        "  error = 100.0 - (100 * float(correct) / float(total))\n",
        "\n",
        "  confusions = numpy.zeros([10, 10], numpy.float32)\n",
        "  bundled = zip(numpy.argmax(predictions, 1), numpy.argmax(labels, 1))\n",
        "  for predicted, actual in bundled:\n",
        "    confusions[predicted, actual] += 1\n",
        "    \n",
        "  return error, confusions\n",
        "\n",
        "print 'Done'"
      ],
      "outputs": [
        {
          "output_type": "stream",
          "text": [
            "Done\n"
          ],
          "name": "stdout"
        }
      ],
      "execution_count": 0
    },
    {
      "cell_type": "markdown",
      "metadata": {
        "id": "sLv22cjeB5Rd",
        "colab_type": "text"
      },
      "source": [
        "We'll need to train for some time to actually see useful predicted values. Let's define a loop that will go through our data. We'll print the loss and error periodically.\n",
        "\n",
        "Here, we want to iterate over the entire data set rather than just the first batch, so we'll need to slice the data to that end.\n",
        "\n",
        "(One pass through our training set will take some time on a CPU, so be patient if you are executing this notebook.)"
      ]
    },
    {
      "cell_type": "code",
      "metadata": {
        "id": "4cgKJrS1_vej",
        "colab_type": "code",
        "colab": {
          "autoexec": {
            "startup": false,
            "wait_interval": 0
          }
        },
        "cellView": "both"
      },
      "source": [
        "# Train over the first 1/4th of our training set.\n",
        "steps = int(train_size / BATCH_SIZE)\n",
        "for step in xrange(steps):\n",
        "  # Compute the offset of the current minibatch in the data.\n",
        "  # Note that we could use better randomization across epochs.\n",
        "  offset = (step * BATCH_SIZE) % (train_size - BATCH_SIZE)\n",
        "  batch_data = train_data[offset:(offset + BATCH_SIZE), :, :, :]\n",
        "  batch_labels = train_labels[offset:(offset + BATCH_SIZE)]\n",
        "  # This dictionary maps the batch data (as a numpy array) to the\n",
        "  # node in the graph it should be fed to.\n",
        "  feed_dict = {train_data_node: batch_data,\n",
        "               train_labels_node: batch_labels}\n",
        "  # Run the graph and fetch some of the nodes.\n",
        "  _, l, lr, predictions = s.run(\n",
        "    [optimizer, loss, learning_rate, train_prediction],\n",
        "    feed_dict=feed_dict)\n",
        "  \n",
        "  # Print out the loss periodically.\n",
        "  if step % 100 == 0:\n",
        "    error, _ = error_rate(predictions, batch_labels)\n",
        "    print 'Step %d of %d' % (step, steps)\n",
        "    print 'Mini-batch loss: %.5f Error: %.5f Learning rate: %.5f' % (l, error, lr)\n",
        "    print 'Validation error: %.1f%%' % error_rate(\n",
        "        validation_prediction.eval(), validation_labels)[0]\n"
      ],
      "outputs": [],
      "execution_count": 0
    },
    {
      "cell_type": "markdown",
      "metadata": {
        "id": "J4LskgGXIDAm",
        "colab_type": "text"
      },
      "source": [
        "The error seems to have gone down. Let's evaluate the results using the test set.\n",
        "\n",
        "To help identify rare mispredictions, we'll include the raw count of each (prediction, label) pair in the confusion matrix."
      ]
    },
    {
      "cell_type": "code",
      "metadata": {
        "id": "6Yh1jGFuIKc_",
        "colab_type": "code",
        "colab": {
          "autoexec": {
            "startup": false,
            "wait_interval": 0
          },
          "output_extras": [
            {
              "item_id": 1
            },
            {
              "item_id": 2
            }
          ]
        },
        "cellView": "both",
        "executionInfo": {
          "elapsed": 436,
          "status": "ok",
          "timestamp": 1446752934104,
          "user": {
            "color": "#1FA15D",
            "displayName": "Michael Piatek",
            "isAnonymous": false,
            "isMe": true,
            "permissionId": "00327059602783983041",
            "photoUrl": "//lh6.googleusercontent.com/-wKJwK_OPl34/AAAAAAAAAAI/AAAAAAAAAlk/Rh3u6O2Z7ns/s50-c-k-no/photo.jpg",
            "sessionId": "716a6ad5e180d821",
            "userId": "106975671469698476657"
          },
          "user_tz": 480
        },
        "outputId": "4e411de4-0fe2-451b-e4ca-8a4854f0db89"
      },
      "source": [
        "test_error, confusions = error_rate(test_prediction.eval(), test_labels)\n",
        "print 'Test error: %.1f%%' % test_error\n",
        "\n",
        "plt.xlabel('Actual')\n",
        "plt.ylabel('Predicted')\n",
        "plt.grid(False)\n",
        "plt.xticks(numpy.arange(NUM_LABELS))\n",
        "plt.yticks(numpy.arange(NUM_LABELS))\n",
        "plt.imshow(confusions, cmap=plt.cm.jet, interpolation='nearest');\n",
        "\n",
        "for i, cas in enumerate(confusions):\n",
        "  for j, count in enumerate(cas):\n",
        "    if count > 0:\n",
        "      xoff = .07 * len(str(count))\n",
        "      plt.text(j-xoff, i+.2, int(count), fontsize=9, color='white')"
      ],
      "outputs": [
        {
          "output_type": "stream",
          "text": [
            "Test error: 1.4%\n"
          ],
          "name": "stdout"
        },
        {
          "output_type": "display_data",
          "metadata": {},
          "data": {
            "image/png": "[encoded data removed]",
            "text/plain": [
              "<matplotlib.figure.Figure at 0x7f22684b17d0>"
            ]
          }
        }
      ],
      "execution_count": 0
    },
    {
      "cell_type": "markdown",
      "metadata": {
        "id": "yLnS4dGiMwI1",
        "colab_type": "text"
      },
      "source": [
        "We can see here that we're mostly accurate, with some errors you might expect, e.g., '9' is often confused as '4'.\n",
        "\n",
        "Let's do another sanity check to make sure this matches roughly the distribution of our test set, e.g., it seems like we have fewer '5' values."
      ]
    },
    {
      "cell_type": "code",
      "metadata": {
        "id": "x5KOv1AJMgzV",
        "colab_type": "code",
        "colab": {
          "autoexec": {
            "startup": false,
            "wait_interval": 0
          },
          "output_extras": [
            {
              "item_id": 1
            }
          ]
        },
        "cellView": "both",
        "executionInfo": {
          "elapsed": 352,
          "status": "ok",
          "timestamp": 1446753006584,
          "user": {
            "color": "#1FA15D",
            "displayName": "Michael Piatek",
            "isAnonymous": false,
            "isMe": true,
            "permissionId": "00327059602783983041",
            "photoUrl": "//lh6.googleusercontent.com/-wKJwK_OPl34/AAAAAAAAAAI/AAAAAAAAAlk/Rh3u6O2Z7ns/s50-c-k-no/photo.jpg",
            "sessionId": "716a6ad5e180d821",
            "userId": "106975671469698476657"
          },
          "user_tz": 480
        },
        "outputId": "2acdf737-bab6-408f-8b3c-05fa66d04fe6"
      },
      "source": [
        "plt.xticks(numpy.arange(NUM_LABELS))\n",
        "plt.hist(numpy.argmax(test_labels, 1));"
      ],
      "outputs": [
        {
          "output_type": "display_data",
          "metadata": {},
          "data": {
            "image/png": "[encoded data removed]",
            "text/plain": [
              "<matplotlib.figure.Figure at 0x7f2265a72d50>"
            ]
          }
        }
      ],
      "execution_count": 0
    },
    {
      "cell_type": "markdown",
      "metadata": {
        "id": "E6DzLSK5M1ju",
        "colab_type": "text"
      },
      "source": [
        "Indeed, we appear to have fewer 5 labels in the test set. So, on the whole, it seems like our model is learning and our early results are sensible.\n",
        "\n",
        "But, we've only done one round of training. We can greatly improve accuracy by training for longer. To try this out, just re-execute the training cell above."
      ]
    }
  ]
}